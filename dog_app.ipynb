{
 "cells": [
  {
   "cell_type": "markdown",
   "metadata": {},
   "source": [
    "# Artificial Intelligence Nanodegree\n",
    "\n",
    "## Convolutional Neural Networks\n",
    "\n",
    "## Project: Write an Algorithm for a Dog Identification App \n",
    "\n",
    "---\n",
    "\n",
    "In this notebook, some template code has already been provided for you, and you will need to implement additional functionality to successfully complete this project. You will not need to modify the included code beyond what is requested. Sections that begin with **'(IMPLEMENTATION)'** in the header indicate that the following block of code will require additional functionality which you must provide. Instructions will be provided for each section, and the specifics of the implementation are marked in the code block with a 'TODO' statement. Please be sure to read the instructions carefully! \n",
    "\n",
    "> **Note**: Once you have completed all of the code implementations, you need to finalize your work by exporting the iPython Notebook as an HTML document. Before exporting the notebook to html, all of the code cells need to have been run so that reviewers can see the final implementation and output. You can then export the notebook by using the menu above and navigating to  \\n\",\n",
    "    \"**File -> Download as -> HTML (.html)**. Include the finished document along with this notebook as your submission.\n",
    "\n",
    "In addition to implementing code, there will be questions that you must answer which relate to the project and your implementation. Each section where you will answer a question is preceded by a **'Question X'** header. Carefully read each question and provide thorough answers in the following text boxes that begin with **'Answer:'**. Your project submission will be evaluated based on your answers to each of the questions and the implementation you provide.\n",
    "\n",
    ">**Note:** Code and Markdown cells can be executed using the **Shift + Enter** keyboard shortcut.  Markdown cells can be edited by double-clicking the cell to enter edit mode.\n",
    "\n",
    "The rubric contains _optional_ \"Stand Out Suggestions\" for enhancing the project beyond the minimum requirements. If you decide to pursue the \"Stand Out Suggestions\", you should include the code in this IPython notebook.\n",
    "\n",
    "\n",
    "\n",
    "---\n",
    "### Why We're Here \n",
    "\n",
    "In this notebook, you will make the first steps towards developing an algorithm that could be used as part of a mobile or web app.  At the end of this project, your code will accept any user-supplied image as input.  If a dog is detected in the image, it will provide an estimate of the dog's breed.  If a human is detected, it will provide an estimate of the dog breed that is most resembling.  The image below displays potential sample output of your finished project (... but we expect that each student's algorithm will behave differently!). \n",
    "\n",
    "![Sample Dog Output](images/sample_dog_output.png)\n",
    "\n",
    "In this real-world setting, you will need to piece together a series of models to perform different tasks; for instance, the algorithm that detects humans in an image will be different from the CNN that infers dog breed.  There are many points of possible failure, and no perfect algorithm exists.  Your imperfect solution will nonetheless create a fun user experience!\n",
    "\n",
    "### The Road Ahead\n",
    "\n",
    "We break the notebook into separate steps.  Feel free to use the links below to navigate the notebook.\n",
    "\n",
    "* [Step 0](#step0): Import Datasets\n",
    "* [Step 1](#step1): Detect Humans\n",
    "* [Step 2](#step2): Detect Dogs\n",
    "* [Step 3](#step3): Create a CNN to Classify Dog Breeds (from Scratch)\n",
    "* [Step 4](#step4): Use a CNN to Classify Dog Breeds (using Transfer Learning)\n",
    "* [Step 5](#step5): Create a CNN to Classify Dog Breeds (using Transfer Learning)\n",
    "* [Step 6](#step6): Write your Algorithm\n",
    "* [Step 7](#step7): Test Your Algorithm\n",
    "\n",
    "---\n",
    "<a id='step0'></a>\n",
    "## Step 0: Import Datasets\n",
    "\n",
    "### Import Dog Dataset\n",
    "\n",
    "In the code cell below, we import a dataset of dog images.  We populate a few variables through the use of the `load_files` function from the scikit-learn library:\n",
    "- `train_files`, `valid_files`, `test_files` - numpy arrays containing file paths to images\n",
    "- `train_targets`, `valid_targets`, `test_targets` - numpy arrays containing onehot-encoded classification labels \n",
    "- `dog_names` - list of string-valued dog breed names for translating labels"
   ]
  },
  {
   "cell_type": "code",
   "execution_count": 1,
   "metadata": {},
   "outputs": [
    {
     "name": "stderr",
     "output_type": "stream",
     "text": [
      "Using TensorFlow backend.\n"
     ]
    },
    {
     "name": "stdout",
     "output_type": "stream",
     "text": [
      "There are 133 total dog categories.\n",
      "There are 8351 total dog images.\n",
      "\n",
      "There are 6680 training dog images.\n",
      "There are 835 validation dog images.\n",
      "There are 836 test dog images.\n"
     ]
    }
   ],
   "source": [
    "from sklearn.datasets import load_files       \n",
    "from keras.utils import np_utils\n",
    "import numpy as np\n",
    "from glob import glob\n",
    "\n",
    "# define function to load train, test, and validation datasets\n",
    "def load_dataset(path):\n",
    "    data = load_files(path)\n",
    "    dog_files = np.array(data['filenames'])\n",
    "    dog_targets = np_utils.to_categorical(np.array(data['target']), 133)\n",
    "    return dog_files, dog_targets\n",
    "\n",
    "# load train, test, and validation datasets\n",
    "train_files, train_targets = load_dataset('dogImages/train')\n",
    "valid_files, valid_targets = load_dataset('dogImages/valid')\n",
    "test_files, test_targets = load_dataset('dogImages/test')\n",
    "\n",
    "# load list of dog names\n",
    "dog_names = [item[20:-1] for item in sorted(glob(\"dogImages/train/*/\"))]\n",
    "\n",
    "# print statistics about the dataset\n",
    "print('There are %d total dog categories.' % len(dog_names))\n",
    "print('There are %s total dog images.\\n' % len(np.hstack([train_files, valid_files, test_files])))\n",
    "print('There are %d training dog images.' % len(train_files))\n",
    "print('There are %d validation dog images.' % len(valid_files))\n",
    "print('There are %d test dog images.'% len(test_files))"
   ]
  },
  {
   "cell_type": "markdown",
   "metadata": {},
   "source": [
    "### Import Human Dataset\n",
    "\n",
    "In the code cell below, we import a dataset of human images, where the file paths are stored in the numpy array `human_files`."
   ]
  },
  {
   "cell_type": "code",
   "execution_count": 2,
   "metadata": {},
   "outputs": [
    {
     "name": "stdout",
     "output_type": "stream",
     "text": [
      "There are 13233 total human images.\n"
     ]
    }
   ],
   "source": [
    "import random\n",
    "random.seed(8675309)\n",
    "\n",
    "# load filenames in shuffled human dataset\n",
    "human_files = np.array(glob(\"lfw/*/*\"))\n",
    "random.shuffle(human_files)\n",
    "\n",
    "# print statistics about the dataset\n",
    "print('There are %d total human images.' % len(human_files))"
   ]
  },
  {
   "cell_type": "markdown",
   "metadata": {},
   "source": [
    "---\n",
    "<a id='step1'></a>\n",
    "## Step 1: Detect Humans\n",
    "\n",
    "We use OpenCV's implementation of [Haar feature-based cascade classifiers](http://docs.opencv.org/trunk/d7/d8b/tutorial_py_face_detection.html) to detect human faces in images.  OpenCV provides many pre-trained face detectors, stored as XML files on [github](https://github.com/opencv/opencv/tree/master/data/haarcascades).  We have downloaded one of these detectors and stored it in the `haarcascades` directory.\n",
    "\n",
    "In the next code cell, we demonstrate how to use this detector to find human faces in a sample image."
   ]
  },
  {
   "cell_type": "code",
   "execution_count": 8,
   "metadata": {},
   "outputs": [
    {
     "name": "stdout",
     "output_type": "stream",
     "text": [
      "Number of faces detected: 1\n"
     ]
    },
    {
     "data": {
      "image/png": "[encoded data removed]",
      "text/plain": [
       "<matplotlib.figure.Figure at 0x7fd9e34977f0>"
      ]
     },
     "metadata": {},
     "output_type": "display_data"
    }
   ],
   "source": [
    "import cv2                \n",
    "import matplotlib.pyplot as plt                        \n",
    "%matplotlib inline                               \n",
    "\n",
    "# extract pre-trained face detector\n",
    "face_cascade = cv2.CascadeClassifier('haarcascades/haarcascade_frontalface_alt.xml')\n",
    "\n",
    "# load color (BGR) image\n",
    "img = cv2.imread(human_files[3])\n",
    "# convert BGR image to grayscale\n",
    "gray = cv2.cvtColor(img, cv2.COLOR_BGR2GRAY)\n",
    "\n",
    "# find faces in image\n",
    "faces = face_cascade.detectMultiScale(gray)\n",
    "\n",
    "# print number of faces detected in the image\n",
    "print('Number of faces detected:', len(faces))\n",
    "\n",
    "# get bounding box for each detected face\n",
    "for (x,y,w,h) in faces:\n",
    "    # add bounding box to color image\n",
    "    cv2.rectangle(img,(x,y),(x+w,y+h),(255,0,0),2)\n",
    "    \n",
    "# convert BGR image to RGB for plotting\n",
    "cv_rgb = cv2.cvtColor(img, cv2.COLOR_BGR2RGB)\n",
    "\n",
    "# display the image, along with bounding box\n",
    "plt.imshow(cv_rgb)\n",
    "plt.show()"
   ]
  },
  {
   "cell_type": "markdown",
   "metadata": {},
   "source": [
    "Before using any of the face detectors, it is standard procedure to convert the images to grayscale.  The `detectMultiScale` function executes the classifier stored in `face_cascade` and takes the grayscale image as a parameter.  \n",
    "\n",
    "In the above code, `faces` is a numpy array of detected faces, where each row corresponds to a detected face.  Each detected face is a 1D array with four entries that specifies the bounding box of the detected face.  The first two entries in the array (extracted in the above code as `x` and `y`) specify the horizontal and vertical positions of the top left corner of the bounding box.  The last two entries in the array (extracted here as `w` and `h`) specify the width and height of the box.\n",
    "\n",
    "### Write a Human Face Detector\n",
    "\n",
    "We can use this procedure to write a function that returns `True` if a human face is detected in an image and `False` otherwise.  This function, aptly named `face_detector`, takes a string-valued file path to an image as input and appears in the code block below."
   ]
  },
  {
   "cell_type": "code",
   "execution_count": 9,
   "metadata": {
    "collapsed": true
   },
   "outputs": [],
   "source": [
    "# returns \"True\" if face is detected in image stored at img_path\n",
    "def face_detector(img_path):\n",
    "    img = cv2.imread(img_path)\n",
    "    gray = cv2.cvtColor(img, cv2.COLOR_BGR2GRAY)\n",
    "    faces = face_cascade.detectMultiScale(gray)\n",
    "    return len(faces) > 0"
   ]
  },
  {
   "cell_type": "markdown",
   "metadata": {},
   "source": [
    "### (IMPLEMENTATION) Assess the Human Face Detector\n",
    "\n",
    "__Question 1:__ Use the code cell below to test the performance of the `face_detector` function.  \n",
    "- What percentage of the first 100 images in `human_files` have a detected human face?  \n",
    "- What percentage of the first 100 images in `dog_files` have a detected human face? \n",
    "\n",
    "Ideally, we would like 100% of human images with a detected face and 0% of dog images with a detected face.  You will see that our algorithm falls short of this goal, but still gives acceptable performance.  We extract the file paths for the first 100 images from each of the datasets and store them in the numpy arrays `human_files_short` and `dog_files_short`.\n",
    "\n",
    "__Answer:__ "
   ]
  },
  {
   "cell_type": "code",
   "execution_count": 10,
   "metadata": {},
   "outputs": [
    {
     "name": "stdout",
     "output_type": "stream",
     "text": [
      "Percentage of images with humans and faces detected: 0.99 \n",
      "Percentage of images with dogs and faces detected: 0.11\n"
     ]
    }
   ],
   "source": [
    "human_files_short = human_files[:100]\n",
    "dog_files_short = train_files[:100]\n",
    "# Do NOT modify the code above this line.\n",
    "\n",
    "## TODO: Test the performance of the face_detector algorithm \n",
    "## on the images in human_files_short and dog_files_short.\n",
    "human_acc = sum(map(face_detector, human_files_short))/100\n",
    "dog_inacc = sum(map(face_detector, dog_files_short))/100\n",
    "\n",
    "print('Percentage of images with humans and faces detected: {} \\n\\\n",
    "Percentage of images with dogs and faces detected: {}'.format(human_acc, dog_inacc))"
   ]
  },
  {
   "cell_type": "markdown",
   "metadata": {},
   "source": [
    "__Question 2:__ This algorithmic choice necessitates that we communicate to the user that we accept human images only when they provide a clear view of a face (otherwise, we risk having unneccessarily frustrated users!). In your opinion, is this a reasonable expectation to pose on the user? If not, can you think of a way to detect humans in images that does not necessitate an image with a clearly presented face?\n",
    "\n",
    "__Answer:__\n",
    "A simple approach that is probably better for the task, but not necessarily a face detector, would be to combine the two datasets, humans and dogs, cast it as binary classification problem and train a Deep Neural Network on it. Additionally, we could also use transfer learning to boost performance.\n",
    "\n",
    "We suggest the face detector from OpenCV as a potential way to detect human images in your algorithm, but you are free to explore other approaches, especially approaches that make use of deep learning :).  Please use the code cell below to design and test your own face detection algorithm.  If you decide to pursue this _optional_ task, report performance on each of the datasets."
   ]
  },
  {
   "cell_type": "code",
   "execution_count": null,
   "metadata": {
    "collapsed": true
   },
   "outputs": [],
   "source": [
    "## (Optional) TODO: Report the performance of another  \n",
    "## face detection algorithm on the LFW dataset\n",
    "### Feel free to use as many code cells as needed."
   ]
  },
  {
   "cell_type": "code",
   "execution_count": 14,
   "metadata": {
    "collapsed": true
   },
   "outputs": [],
   "source": [
    "# I have taken this code from later in the notebook, just to get all the images in the right format.\n",
    "from PIL import ImageFile\n",
    "from keras.preprocessing import image                  \n",
    "from tqdm import tqdm\n",
    "\n",
    "ImageFile.LOAD_TRUNCATED_IMAGES = True\n",
    "\n",
    "def path_to_tensor(img_path):\n",
    "    # loads RGB image as PIL.Image.Image type\n",
    "    img = image.load_img(img_path, target_size=(224, 224))\n",
    "    # convert PIL.Image.Image type to 3D tensor with shape (224, 224, 3)\n",
    "    x = image.img_to_array(img)\n",
    "    # convert 3D tensor to 4D tensor with shape (1, 224, 224, 3) and return 4D tensor\n",
    "    return np.expand_dims(x, axis=0)\n",
    "\n",
    "def paths_to_tensor(img_paths):\n",
    "    list_of_tensors = [path_to_tensor(img_path) for img_path in tqdm(img_paths)]\n",
    "    return np.vstack(list_of_tensors)"
   ]
  },
  {
   "cell_type": "code",
   "execution_count": 42,
   "metadata": {},
   "outputs": [
    {
     "name": "stderr",
     "output_type": "stream",
     "text": [
      "\n",
      "  0%|          | 0/1336 [00:00<?, ?it/s]\u001b[A\n",
      "  0%|          | 1/1336 [00:00<09:35,  2.32it/s]\u001b[A\n",
      "  0%|          | 2/1336 [00:00<08:44,  2.54it/s]\u001b[A\n",
      "  0%|          | 3/1336 [00:00<07:30,  2.96it/s]\u001b[A\n",
      "  0%|          | 4/1336 [00:01<06:18,  3.52it/s]\u001b[A\n",
      "  0%|          | 5/1336 [00:01<05:40,  3.91it/s]\u001b[A\n",
      "  0%|          | 6/1336 [00:01<07:22,  3.01it/s]\u001b[A\n",
      "  1%|          | 7/1336 [00:03<13:34,  1.63it/s]\u001b[A\n",
      "  1%|          | 8/1336 [00:03<10:22,  2.13it/s]\u001b[A\n",
      "  1%|          | 9/1336 [00:03<08:37,  2.56it/s]\u001b[A\n",
      "  1%|          | 10/1336 [00:03<06:45,  3.27it/s]\u001b[A\n",
      "  1%|          | 11/1336 [00:03<06:06,  3.61it/s]\u001b[A\n",
      "  1%|          | 13/1336 [00:03<04:48,  4.59it/s]\u001b[A\n",
      "  1%|          | 15/1336 [00:04<04:07,  5.34it/s]\u001b[A\n",
      "  1%|          | 16/1336 [00:04<03:47,  5.81it/s]\u001b[A\n",
      "  1%|▏         | 17/1336 [00:04<03:30,  6.26it/s]\u001b[A\n",
      "  1%|▏         | 19/1336 [00:04<03:14,  6.76it/s]\u001b[A\n",
      "  2%|▏         | 21/1336 [00:04<02:46,  7.88it/s]\u001b[A\n",
      "  2%|▏         | 22/1336 [00:04<03:04,  7.11it/s]\u001b[A\n",
      "  2%|▏         | 23/1336 [00:05<03:13,  6.78it/s]\u001b[A\n",
      "  2%|▏         | 25/1336 [00:05<02:41,  8.14it/s]\u001b[A\n",
      "  2%|▏         | 27/1336 [00:05<02:15,  9.64it/s]\u001b[A\n",
      "  2%|▏         | 29/1336 [00:06<05:21,  4.06it/s]\u001b[A\n",
      "  2%|▏         | 32/1336 [00:06<04:07,  5.26it/s]\u001b[A\n",
      "  3%|▎         | 34/1336 [00:06<03:29,  6.22it/s]\u001b[A\n",
      "  3%|▎         | 36/1336 [00:07<03:00,  7.18it/s]\u001b[A\n",
      "  3%|▎         | 38/1336 [00:07<02:33,  8.46it/s]\u001b[A\n",
      "  3%|▎         | 40/1336 [00:07<02:20,  9.19it/s]\u001b[A\n",
      "  3%|▎         | 42/1336 [00:07<02:08, 10.11it/s]\u001b[A\n",
      "  3%|▎         | 45/1336 [00:07<01:50, 11.64it/s]\u001b[A\n",
      "  4%|▎         | 47/1336 [00:07<01:51, 11.59it/s]\u001b[A\n",
      "  4%|▎         | 49/1336 [00:08<01:59, 10.78it/s]\u001b[A\n",
      "  4%|▍         | 51/1336 [00:08<02:01, 10.60it/s]\u001b[A\n",
      "  4%|▍         | 53/1336 [00:08<02:37,  8.14it/s]\u001b[A\n",
      "  4%|▍         | 55/1336 [00:08<02:17,  9.33it/s]\u001b[A\n",
      "  4%|▍         | 57/1336 [00:09<02:20,  9.11it/s]\u001b[A\n",
      "  4%|▍         | 59/1336 [00:09<03:10,  6.70it/s]\u001b[A\n",
      "  4%|▍         | 60/1336 [00:10<07:30,  2.83it/s]\u001b[A\n",
      "  5%|▍         | 63/1336 [00:10<06:17,  3.37it/s]\u001b[A\n",
      "  5%|▍         | 65/1336 [00:11<05:12,  4.07it/s]\u001b[A\n",
      "  5%|▌         | 67/1336 [00:11<04:16,  4.94it/s]\u001b[A\n",
      "  5%|▌         | 68/1336 [00:11<03:44,  5.66it/s]\u001b[A\n",
      "  5%|▌         | 69/1336 [00:11<04:45,  4.43it/s]\u001b[A\n",
      "  5%|▌         | 70/1336 [00:12<04:58,  4.24it/s]\u001b[A\n",
      "  5%|▌         | 71/1336 [00:12<04:14,  4.97it/s]\u001b[A\n",
      "  5%|▌         | 73/1336 [00:12<03:22,  6.24it/s]\u001b[A\n",
      "  6%|▌         | 74/1336 [00:12<03:20,  6.29it/s]\u001b[A\n",
      "  6%|▌         | 77/1336 [00:12<02:41,  7.78it/s]\u001b[A\n",
      "  6%|▌         | 79/1336 [00:12<02:16,  9.20it/s]\u001b[A\n",
      "  6%|▌         | 81/1336 [00:12<02:14,  9.34it/s]\u001b[A\n",
      "  6%|▌         | 83/1336 [00:13<02:15,  9.23it/s]\u001b[A\n",
      "  6%|▋         | 85/1336 [00:13<02:14,  9.30it/s]\u001b[A\n",
      "  7%|▋         | 87/1336 [00:13<02:45,  7.56it/s]\u001b[A\n",
      "  7%|▋         | 89/1336 [00:13<02:15,  9.24it/s]\u001b[A\n",
      "  7%|▋         | 91/1336 [00:14<02:16,  9.14it/s]\u001b[A\n",
      "  7%|▋         | 93/1336 [00:14<02:50,  7.29it/s]\u001b[A\n",
      "  7%|▋         | 94/1336 [00:14<03:16,  6.32it/s]\u001b[A\n",
      "  7%|▋         | 95/1336 [00:14<03:16,  6.31it/s]\u001b[A\n",
      "  7%|▋         | 97/1336 [00:14<02:37,  7.85it/s]\u001b[A\n",
      "  7%|▋         | 99/1336 [00:15<02:44,  7.50it/s]\u001b[A\n",
      "  7%|▋         | 100/1336 [00:15<03:31,  5.84it/s]\u001b[A\n",
      "  8%|▊         | 101/1336 [00:15<03:22,  6.10it/s]\u001b[A\n",
      "  8%|▊         | 102/1336 [00:15<03:30,  5.86it/s]\u001b[A\n",
      "  8%|▊         | 103/1336 [00:15<03:13,  6.39it/s]\u001b[A\n",
      "  8%|▊         | 104/1336 [00:16<03:26,  5.96it/s]\u001b[A\n",
      "  8%|▊         | 105/1336 [00:16<05:35,  3.67it/s]\u001b[A\n",
      "  8%|▊         | 106/1336 [00:16<04:49,  4.26it/s]\u001b[A\n",
      "  8%|▊         | 109/1336 [00:16<03:37,  5.65it/s]\u001b[A\n",
      "  8%|▊         | 111/1336 [00:17<02:53,  7.08it/s]\u001b[A\n",
      "  8%|▊         | 113/1336 [00:17<02:26,  8.33it/s]\u001b[A\n",
      "  9%|▊         | 115/1336 [00:17<02:07,  9.61it/s]\u001b[A\n",
      "  9%|▉         | 118/1336 [00:18<02:56,  6.91it/s]\u001b[A\n",
      "  9%|▉         | 120/1336 [00:18<02:37,  7.70it/s]\u001b[A\n",
      "  9%|▉         | 122/1336 [00:18<02:11,  9.24it/s]\u001b[A\n",
      "  9%|▉         | 124/1336 [00:18<02:58,  6.77it/s]\u001b[A\n",
      "  9%|▉         | 126/1336 [00:18<02:25,  8.33it/s]\u001b[A\n",
      " 10%|▉         | 128/1336 [00:19<02:07,  9.45it/s]\u001b[A\n",
      " 10%|▉         | 130/1336 [00:19<02:18,  8.72it/s]\u001b[A\n",
      " 10%|▉         | 132/1336 [00:19<01:54, 10.47it/s]\u001b[A\n",
      " 10%|█         | 134/1336 [00:19<01:39, 12.07it/s]\u001b[A\n",
      " 10%|█         | 137/1336 [00:19<01:25, 14.03it/s]\u001b[A\n",
      " 10%|█         | 139/1336 [00:19<01:36, 12.38it/s]\u001b[A\n",
      " 11%|█         | 141/1336 [00:20<01:44, 11.40it/s]\u001b[A\n",
      " 11%|█         | 143/1336 [00:20<02:17,  8.67it/s]\u001b[A\n",
      " 11%|█         | 145/1336 [00:20<02:24,  8.27it/s]\u001b[A\n",
      " 11%|█         | 147/1336 [00:21<03:09,  6.28it/s]\u001b[A\n",
      " 11%|█         | 148/1336 [00:21<02:56,  6.71it/s]\u001b[A\n",
      " 11%|█         | 150/1336 [00:21<02:37,  7.51it/s]\u001b[A\n",
      " 11%|█▏        | 151/1336 [00:22<04:38,  4.25it/s]\u001b[A\n",
      " 11%|█▏        | 153/1336 [00:22<03:36,  5.45it/s]\u001b[A\n",
      " 12%|█▏        | 156/1336 [00:22<02:47,  7.06it/s]\u001b[A\n",
      " 12%|█▏        | 158/1336 [00:22<02:25,  8.10it/s]\u001b[A\n",
      " 12%|█▏        | 162/1336 [00:22<02:04,  9.45it/s]\u001b[A\n",
      " 12%|█▏        | 165/1336 [00:22<01:42, 11.47it/s]\u001b[A\n",
      " 12%|█▎        | 167/1336 [00:22<01:31, 12.75it/s]\u001b[A\n",
      " 13%|█▎        | 169/1336 [00:23<01:53, 10.24it/s]\u001b[A\n",
      " 13%|█▎        | 171/1336 [00:23<01:42, 11.38it/s]\u001b[A\n",
      " 13%|█▎        | 173/1336 [00:23<01:41, 11.46it/s]\u001b[A\n",
      " 13%|█▎        | 175/1336 [00:23<01:43, 11.18it/s]\u001b[A\n",
      " 13%|█▎        | 178/1336 [00:23<01:27, 13.19it/s]\u001b[A\n",
      " 13%|█▎        | 180/1336 [00:24<01:29, 12.87it/s]\u001b[A\n",
      " 14%|█▎        | 182/1336 [00:24<01:36, 12.01it/s]\u001b[A\n",
      " 14%|█▍        | 184/1336 [00:24<01:34, 12.13it/s]\u001b[A\n",
      " 14%|█▍        | 186/1336 [00:24<01:34, 12.14it/s]\u001b[A\n",
      " 14%|█▍        | 188/1336 [00:24<02:15,  8.46it/s]\u001b[A\n",
      " 14%|█▍        | 190/1336 [00:25<02:09,  8.82it/s]\u001b[A\n",
      " 14%|█▍        | 192/1336 [00:25<02:23,  7.98it/s]\u001b[A\n",
      " 15%|█▍        | 194/1336 [00:25<02:04,  9.14it/s]\u001b[A\n",
      " 15%|█▍        | 197/1336 [00:25<01:44, 10.93it/s]\u001b[A\n",
      " 15%|█▌        | 201/1336 [00:25<01:29, 12.69it/s]\u001b[A\n",
      " 15%|█▌        | 203/1336 [00:26<01:35, 11.81it/s]\u001b[A\n",
      " 15%|█▌        | 205/1336 [00:26<02:33,  7.39it/s]\u001b[A\n",
      " 15%|█▌        | 207/1336 [00:26<02:12,  8.50it/s]\u001b[A\n",
      " 16%|█▌        | 209/1336 [00:28<05:09,  3.64it/s]\u001b[A\n",
      " 16%|█▌        | 210/1336 [00:28<04:15,  4.40it/s]\u001b[A\n",
      " 16%|█▌        | 214/1336 [00:28<03:09,  5.91it/s]\u001b[A\n",
      " 16%|█▌        | 216/1336 [00:28<02:41,  6.92it/s]\u001b[A\n",
      " 16%|█▋        | 218/1336 [00:28<02:10,  8.55it/s]\u001b[A\n",
      " 16%|█▋        | 220/1336 [00:28<01:48, 10.29it/s]\u001b[A\n",
      " 17%|█▋        | 222/1336 [00:28<01:35, 11.72it/s]\u001b[A\n",
      " 17%|█▋        | 224/1336 [00:29<01:36, 11.51it/s]\u001b[A\n",
      " 17%|█▋        | 226/1336 [00:29<01:41, 10.91it/s]\u001b[A\n",
      " 17%|█▋        | 229/1336 [00:29<01:24, 13.15it/s]\u001b[A\n",
      " 17%|█▋        | 231/1336 [00:29<01:15, 14.57it/s]\u001b[A\n",
      " 17%|█▋        | 233/1336 [00:29<01:09, 15.79it/s]\u001b[A\n",
      " 18%|█▊        | 235/1336 [00:30<02:41,  6.82it/s]\u001b[A\n",
      " 18%|█▊        | 239/1336 [00:30<02:03,  8.91it/s]\u001b[A\n",
      " 18%|█▊        | 241/1336 [00:30<01:46, 10.27it/s]\u001b[A\n",
      " 18%|█▊        | 243/1336 [00:31<02:39,  6.85it/s]\u001b[A\n",
      " 18%|█▊        | 245/1336 [00:31<02:08,  8.49it/s]\u001b[A\n",
      " 19%|█▊        | 248/1336 [00:31<01:55,  9.40it/s]\u001b[A\n",
      " 19%|█▉        | 251/1336 [00:31<01:33, 11.60it/s]\u001b[A\n",
      " 19%|█▉        | 253/1336 [00:31<01:30, 11.93it/s]\u001b[A\n",
      " 19%|█▉        | 255/1336 [00:31<01:20, 13.48it/s]\u001b[A\n",
      " 19%|█▉        | 257/1336 [00:31<01:16, 14.07it/s]\u001b[A\n",
      " 20%|█▉        | 261/1336 [00:31<01:01, 17.36it/s]\u001b[A\n",
      " 20%|█▉        | 266/1336 [00:32<00:50, 21.20it/s]\u001b[A\n",
      " 20%|██        | 269/1336 [00:32<00:46, 23.10it/s]\u001b[A\n",
      " 20%|██        | 272/1336 [00:32<00:43, 24.66it/s]\u001b[A\n",
      " 21%|██        | 275/1336 [00:32<00:52, 20.34it/s]\u001b[A\n",
      " 21%|██        | 278/1336 [00:32<00:56, 18.79it/s]\u001b[A\n",
      " 21%|██        | 281/1336 [00:33<01:15, 13.90it/s]\u001b[A\n",
      " 21%|██▏       | 284/1336 [00:33<01:06, 15.85it/s]\u001b[A\n",
      " 21%|██▏       | 286/1336 [00:33<01:24, 12.36it/s]\u001b[A\n",
      " 22%|██▏       | 288/1336 [00:33<01:19, 13.25it/s]\u001b[A\n",
      " 22%|██▏       | 291/1336 [00:33<01:38, 10.62it/s]\u001b[A\n",
      " 22%|██▏       | 293/1336 [00:34<01:28, 11.73it/s]\u001b[A\n",
      " 22%|██▏       | 298/1336 [00:34<01:09, 14.97it/s]\u001b[A\n",
      " 23%|██▎       | 301/1336 [00:34<00:59, 17.46it/s]\u001b[A\n",
      " 23%|██▎       | 305/1336 [00:34<00:51, 20.20it/s]\u001b[A\n",
      " 23%|██▎       | 308/1336 [00:34<00:57, 17.75it/s]\u001b[A\n",
      " 23%|██▎       | 312/1336 [00:34<00:53, 19.28it/s]\u001b[A\n",
      " 24%|██▎       | 315/1336 [00:35<01:35, 10.68it/s]\u001b[A\n",
      " 24%|██▍       | 318/1336 [00:35<01:18, 12.90it/s]\u001b[A\n",
      " 24%|██▍       | 322/1336 [00:35<01:04, 15.67it/s]\u001b[A\n",
      " 24%|██▍       | 325/1336 [00:35<01:16, 13.25it/s]\u001b[A\n",
      " 25%|██▍       | 328/1336 [00:36<01:04, 15.73it/s]\u001b[A\n",
      " 25%|██▍       | 331/1336 [00:36<01:01, 16.38it/s]\u001b[A\n",
      " 25%|██▌       | 334/1336 [00:36<00:59, 16.87it/s]\u001b[A\n",
      " 25%|██▌       | 336/1336 [00:36<01:03, 15.83it/s]\u001b[A\n",
      " 25%|██▌       | 338/1336 [00:36<01:09, 14.43it/s]\u001b[A\n",
      " 25%|██▌       | 340/1336 [00:36<01:07, 14.74it/s]\u001b[A\n",
      " 26%|██▌       | 343/1336 [00:36<01:06, 14.94it/s]\u001b[A\n",
      " 26%|██▌       | 345/1336 [00:37<01:07, 14.72it/s]\u001b[A\n",
      " 26%|██▌       | 347/1336 [00:37<01:20, 12.29it/s]\u001b[A\n",
      " 26%|██▌       | 349/1336 [00:37<01:24, 11.66it/s]\u001b[A\n",
      " 26%|██▋       | 351/1336 [00:37<01:24, 11.60it/s]\u001b[A\n",
      " 26%|██▋       | 353/1336 [00:37<01:23, 11.76it/s]\u001b[A\n",
      " 27%|██▋       | 356/1336 [00:38<01:12, 13.45it/s]\u001b[A\n",
      " 27%|██▋       | 358/1336 [00:38<01:12, 13.48it/s]\u001b[A\n",
      " 27%|██▋       | 361/1336 [00:38<01:10, 13.86it/s]\u001b[A\n",
      " 27%|██▋       | 364/1336 [00:38<01:14, 13.10it/s]\u001b[A\n",
      " 27%|██▋       | 366/1336 [00:38<01:12, 13.35it/s]\u001b[A\n",
      " 28%|██▊       | 368/1336 [00:38<01:18, 12.39it/s]\u001b[A\n",
      " 28%|██▊       | 371/1336 [00:39<01:12, 13.36it/s]\u001b[A\n",
      " 28%|██▊       | 373/1336 [00:39<01:18, 12.32it/s]\u001b[A\n",
      " 28%|██▊       | 375/1336 [00:39<01:17, 12.40it/s]\u001b[A\n",
      " 28%|██▊       | 377/1336 [00:39<01:13, 12.99it/s]\u001b[A\n",
      " 28%|██▊       | 379/1336 [00:39<01:10, 13.55it/s]\u001b[A\n",
      " 29%|██▊       | 381/1336 [00:39<01:16, 12.50it/s]\u001b[A\n",
      " 29%|██▊       | 383/1336 [00:40<01:29, 10.69it/s]\u001b[A\n",
      " 29%|██▉       | 385/1336 [00:40<01:20, 11.85it/s]\u001b[A\n",
      " 29%|██▉       | 387/1336 [00:40<01:23, 11.35it/s]\u001b[A\n",
      " 29%|██▉       | 389/1336 [00:40<01:21, 11.62it/s]\u001b[A\n",
      " 29%|██▉       | 391/1336 [00:40<01:13, 12.87it/s]\u001b[A\n",
      " 29%|██▉       | 393/1336 [00:40<01:16, 12.36it/s]\u001b[A\n",
      " 30%|██▉       | 395/1336 [00:41<01:10, 13.34it/s]\u001b[A\n",
      " 30%|██▉       | 397/1336 [00:41<01:06, 14.04it/s]\u001b[A\n",
      " 30%|██▉       | 399/1336 [00:41<01:10, 13.22it/s]\u001b[A\n",
      " 30%|███       | 401/1336 [00:41<01:08, 13.63it/s]\u001b[A\n",
      " 30%|███       | 403/1336 [00:43<05:48,  2.68it/s]\u001b[A\n",
      " 30%|███       | 406/1336 [00:43<04:14,  3.66it/s]\u001b[A\n",
      " 31%|███       | 409/1336 [00:43<03:12,  4.81it/s]\u001b[A\n",
      " 31%|███       | 413/1336 [00:44<02:22,  6.46it/s]\u001b[A\n",
      " 31%|███       | 416/1336 [00:44<01:50,  8.33it/s]\u001b[A\n",
      " 31%|███▏      | 419/1336 [00:44<01:26, 10.63it/s]\u001b[A\n",
      " 32%|███▏      | 422/1336 [00:44<01:10, 12.97it/s]\u001b[A\n",
      " 32%|███▏      | 425/1336 [00:44<00:58, 15.51it/s]\u001b[A\n",
      " 32%|███▏      | 428/1336 [00:44<00:53, 16.98it/s]\u001b[A\n",
      " 32%|███▏      | 431/1336 [00:44<00:49, 18.40it/s]\u001b[A\n",
      " 32%|███▏      | 434/1336 [00:44<00:44, 20.42it/s]\u001b[A\n",
      " 33%|███▎      | 437/1336 [00:45<00:40, 22.11it/s]\u001b[A\n",
      " 33%|███▎      | 440/1336 [00:45<00:42, 20.84it/s]\u001b[A\n",
      " 33%|███▎      | 443/1336 [00:45<00:40, 22.18it/s]\u001b[A\n",
      " 33%|███▎      | 447/1336 [00:45<00:41, 21.42it/s]\u001b[A\n",
      " 34%|███▍      | 451/1336 [00:45<00:35, 24.78it/s]\u001b[A\n",
      " 34%|███▍      | 454/1336 [00:45<00:34, 25.46it/s]\u001b[A\n",
      " 34%|███▍      | 457/1336 [00:45<00:40, 21.50it/s]\u001b[A\n",
      " 34%|███▍      | 460/1336 [00:46<00:40, 21.75it/s]\u001b[A\n",
      " 35%|███▍      | 464/1336 [00:46<00:37, 23.14it/s]\u001b[A\n",
      " 35%|███▍      | 467/1336 [00:46<00:36, 23.98it/s]\u001b[A\n",
      " 35%|███▌      | 470/1336 [00:46<01:04, 13.43it/s]\u001b[A\n",
      " 35%|███▌      | 472/1336 [00:46<01:07, 12.85it/s]\u001b[A\n",
      " 36%|███▌      | 475/1336 [00:47<00:57, 14.98it/s]\u001b[A\n",
      " 36%|███▌      | 478/1336 [00:47<00:52, 16.40it/s]\u001b[A\n",
      " 36%|███▌      | 482/1336 [00:47<00:43, 19.50it/s]\u001b[A\n",
      " 36%|███▋      | 485/1336 [00:47<01:04, 13.12it/s]\u001b[A\n",
      " 37%|███▋      | 488/1336 [00:47<00:54, 15.44it/s]\u001b[A\n",
      " 37%|███▋      | 493/1336 [00:47<00:45, 18.66it/s]\u001b[A\n",
      " 37%|███▋      | 497/1336 [00:48<00:41, 19.99it/s]\u001b[A\n",
      " 37%|███▋      | 500/1336 [00:48<01:30,  9.24it/s]\u001b[A\n",
      " 38%|███▊      | 502/1336 [00:49<02:08,  6.50it/s]\u001b[A\n",
      " 38%|███▊      | 504/1336 [00:49<02:34,  5.40it/s]\u001b[A\n",
      " 38%|███▊      | 506/1336 [00:50<02:52,  4.80it/s]\u001b[A\n",
      " 38%|███▊      | 507/1336 [00:50<02:57,  4.68it/s]\u001b[A\n",
      " 38%|███▊      | 508/1336 [00:50<02:42,  5.10it/s]\u001b[A\n",
      " 38%|███▊      | 509/1336 [00:50<02:28,  5.57it/s]\u001b[A\n",
      " 38%|███▊      | 511/1336 [00:51<01:57,  7.03it/s]\u001b[A\n",
      " 38%|███▊      | 513/1336 [00:51<01:38,  8.35it/s]\u001b[A\n",
      " 39%|███▊      | 515/1336 [00:51<01:25,  9.59it/s]\u001b[A\n",
      " 39%|███▊      | 517/1336 [00:51<01:27,  9.41it/s]\u001b[A\n",
      " 39%|███▉      | 522/1336 [00:51<01:09, 11.80it/s]\u001b[A\n",
      " 39%|███▉      | 525/1336 [00:51<01:03, 12.71it/s]\u001b[A\n",
      " 39%|███▉      | 527/1336 [00:52<01:04, 12.61it/s]\u001b[A\n",
      " 40%|███▉      | 529/1336 [00:52<01:01, 13.15it/s]\u001b[A\n",
      " 40%|███▉      | 531/1336 [00:52<01:54,  7.02it/s]\u001b[A\n",
      " 40%|███▉      | 534/1336 [00:52<01:29,  8.92it/s]\u001b[A\n",
      " 40%|████      | 538/1336 [00:53<01:11, 11.19it/s]\u001b[A\n",
      " 41%|████      | 542/1336 [00:53<00:55, 14.25it/s]\u001b[A\n",
      " 41%|████      | 545/1336 [00:53<01:19,  9.92it/s]\u001b[A\n",
      " 41%|████      | 547/1336 [00:53<01:16, 10.31it/s]\u001b[A\n",
      " 41%|████      | 549/1336 [00:54<01:22,  9.59it/s]\u001b[A\n",
      " 41%|████      | 551/1336 [00:54<01:22,  9.52it/s]\u001b[A\n",
      " 41%|████▏     | 553/1336 [00:54<01:53,  6.92it/s]\u001b[A\n",
      " 42%|████▏     | 555/1336 [00:55<01:57,  6.65it/s]\u001b[A\n",
      " 42%|████▏     | 558/1336 [00:55<01:35,  8.12it/s]\u001b[A\n",
      " 42%|████▏     | 560/1336 [00:55<01:42,  7.55it/s]\u001b[A\n",
      " 42%|████▏     | 561/1336 [00:56<03:36,  3.58it/s]\u001b[A\n",
      " 42%|████▏     | 566/1336 [00:56<02:35,  4.94it/s]\u001b[A\n",
      " 43%|████▎     | 568/1336 [00:56<02:00,  6.35it/s]\u001b[A\n",
      " 43%|████▎     | 571/1336 [00:56<01:33,  8.22it/s]\u001b[A\n",
      " 43%|████▎     | 574/1336 [00:57<02:15,  5.61it/s]\u001b[A\n",
      " 43%|████▎     | 579/1336 [00:57<01:40,  7.55it/s]\u001b[A\n",
      " 44%|████▎     | 582/1336 [00:57<01:21,  9.27it/s]\u001b[A\n",
      " 44%|████▍     | 588/1336 [00:57<01:01, 12.24it/s]\u001b[A\n",
      " 44%|████▍     | 591/1336 [00:58<00:50, 14.64it/s]\u001b[A\n",
      " 45%|████▍     | 595/1336 [00:58<00:42, 17.24it/s]\u001b[A\n",
      " 45%|████▍     | 598/1336 [00:58<00:53, 13.73it/s]\u001b[A\n",
      " 45%|████▍     | 601/1336 [00:59<01:24,  8.66it/s]\u001b[A\n",
      " 45%|████▌     | 605/1336 [00:59<01:05, 11.13it/s]\u001b[A\n",
      " 46%|████▌     | 608/1336 [00:59<01:15,  9.64it/s]\u001b[A\n",
      " 46%|████▌     | 610/1336 [00:59<01:11, 10.22it/s]\u001b[A\n",
      " 46%|████▌     | 612/1336 [01:00<01:21,  8.94it/s]\u001b[A\n",
      " 46%|████▌     | 617/1336 [01:00<01:01, 11.74it/s]\u001b[A\n",
      " 46%|████▋     | 620/1336 [01:02<03:11,  3.75it/s]\u001b[A\n",
      " 47%|████▋     | 624/1336 [01:02<02:19,  5.11it/s]\u001b[A\n",
      " 47%|████▋     | 627/1336 [01:02<01:45,  6.70it/s]\u001b[A\n",
      " 47%|████▋     | 632/1336 [01:02<01:19,  8.86it/s]\u001b[A\n",
      " 48%|████▊     | 635/1336 [01:03<01:28,  7.88it/s]\u001b[A\n",
      " 48%|████▊     | 638/1336 [01:03<01:09, 10.03it/s]\u001b[A\n",
      " 48%|████▊     | 641/1336 [01:03<00:56, 12.28it/s]\u001b[A\n",
      " 48%|████▊     | 644/1336 [01:03<00:47, 14.62it/s]\u001b[A\n",
      " 48%|████▊     | 647/1336 [01:05<02:18,  4.98it/s]\u001b[A\n",
      " 49%|████▊     | 649/1336 [01:05<02:07,  5.37it/s]\u001b[A\n",
      " 49%|████▊     | 651/1336 [01:05<01:56,  5.86it/s]\u001b[A\n",
      " 49%|████▉     | 653/1336 [01:05<02:01,  5.61it/s]\u001b[A\n",
      " 49%|████▉     | 655/1336 [01:06<01:51,  6.10it/s]\u001b[A\n",
      " 49%|████▉     | 656/1336 [01:06<01:46,  6.37it/s]\u001b[A\n",
      " 49%|████▉     | 657/1336 [01:06<01:38,  6.88it/s]\u001b[A\n",
      " 49%|████▉     | 658/1336 [01:06<01:37,  6.93it/s]\u001b[A\n",
      " 49%|████▉     | 659/1336 [01:06<02:00,  5.62it/s]\u001b[A\n",
      " 49%|████▉     | 660/1336 [01:07<02:04,  5.43it/s]\u001b[A\n",
      " 50%|████▉     | 662/1336 [01:07<01:49,  6.17it/s]\u001b[A\n",
      " 50%|████▉     | 666/1336 [01:07<01:23,  8.03it/s]\u001b[A\n",
      " 50%|█████     | 668/1336 [01:07<01:45,  6.30it/s]\u001b[A\n",
      " 50%|█████     | 671/1336 [01:08<01:22,  8.09it/s]\u001b[A\n",
      " 51%|█████     | 675/1336 [01:08<01:02, 10.62it/s]\u001b[A\n",
      " 51%|█████     | 679/1336 [01:08<00:48, 13.58it/s]\u001b[A\n",
      " 51%|█████     | 683/1336 [01:08<00:40, 16.19it/s]\u001b[A\n",
      " 51%|█████▏    | 686/1336 [01:08<00:39, 16.56it/s]\u001b[A\n",
      " 52%|█████▏    | 690/1336 [01:10<01:41,  6.39it/s]\u001b[A\n",
      " 52%|█████▏    | 695/1336 [01:10<01:14,  8.58it/s]\u001b[A\n",
      " 52%|█████▏    | 698/1336 [01:10<00:59, 10.71it/s]\u001b[A\n",
      " 53%|█████▎    | 703/1336 [01:10<00:47, 13.35it/s]\u001b[A\n",
      " 53%|█████▎    | 706/1336 [01:10<00:42, 15.00it/s]\u001b[A\n",
      " 53%|█████▎    | 709/1336 [01:11<01:03,  9.84it/s]\u001b[A\n",
      " 53%|█████▎    | 711/1336 [01:11<00:55, 11.36it/s]\u001b[A\n",
      " 53%|█████▎    | 714/1336 [01:11<00:46, 13.34it/s]\u001b[A\n",
      " 54%|█████▎    | 716/1336 [01:11<00:58, 10.68it/s]\u001b[A\n",
      " 54%|█████▍    | 719/1336 [01:11<00:48, 12.60it/s]\u001b[A\n",
      " 54%|█████▍    | 721/1336 [01:11<00:43, 13.99it/s]\u001b[A\n",
      " 54%|█████▍    | 725/1336 [01:12<00:37, 16.26it/s]\u001b[A\n",
      " 54%|█████▍    | 728/1336 [01:12<00:55, 11.05it/s]\u001b[A\n",
      " 55%|█████▍    | 731/1336 [01:12<00:47, 12.80it/s]\u001b[A\n"
     ]
    },
    {
     "name": "stderr",
     "output_type": "stream",
     "text": [
      " 55%|█████▍    | 733/1336 [01:12<00:54, 11.02it/s]\u001b[A\n",
      " 55%|█████▌    | 735/1336 [01:13<01:00,  9.93it/s]\u001b[A\n",
      " 55%|█████▌    | 737/1336 [01:13<01:35,  6.24it/s]\u001b[A\n",
      " 55%|█████▌    | 740/1336 [01:13<01:14,  8.05it/s]\u001b[A\n",
      " 56%|█████▌    | 744/1336 [01:14<00:56, 10.41it/s]\u001b[A\n",
      " 56%|█████▌    | 748/1336 [01:14<00:44, 13.24it/s]\u001b[A\n",
      " 56%|█████▌    | 751/1336 [01:14<01:17,  7.58it/s]\u001b[A\n",
      " 56%|█████▋    | 753/1336 [01:15<02:02,  4.75it/s]\u001b[A\n",
      " 57%|█████▋    | 756/1336 [01:15<01:31,  6.33it/s]\u001b[A\n",
      " 57%|█████▋    | 759/1336 [01:16<01:25,  6.73it/s]\u001b[A\n",
      " 57%|█████▋    | 761/1336 [01:16<01:08,  8.40it/s]\u001b[A\n",
      " 57%|█████▋    | 763/1336 [01:17<01:55,  4.95it/s]\u001b[A\n",
      " 57%|█████▋    | 766/1336 [01:17<01:35,  5.94it/s]\u001b[A\n",
      " 58%|█████▊    | 769/1336 [01:17<01:12,  7.82it/s]\u001b[A\n",
      " 58%|█████▊    | 772/1336 [01:17<00:56,  9.94it/s]\u001b[A\n",
      " 58%|█████▊    | 776/1336 [01:17<00:46, 12.12it/s]\u001b[A\n",
      " 58%|█████▊    | 780/1336 [01:17<00:38, 14.55it/s]\u001b[A\n",
      " 59%|█████▊    | 783/1336 [01:18<00:33, 16.66it/s]\u001b[A\n",
      " 59%|█████▉    | 786/1336 [01:18<00:33, 16.31it/s]\u001b[A\n",
      " 59%|█████▉    | 792/1336 [01:18<00:26, 20.52it/s]\u001b[A\n",
      " 60%|█████▉    | 796/1336 [01:19<00:48, 11.19it/s]\u001b[A\n",
      " 60%|█████▉    | 799/1336 [01:19<00:41, 12.79it/s]\u001b[A\n",
      " 60%|██████    | 802/1336 [01:19<00:38, 13.97it/s]\u001b[A\n",
      " 60%|██████    | 806/1336 [01:19<00:30, 17.20it/s]\u001b[A\n",
      " 61%|██████    | 809/1336 [01:19<00:38, 13.83it/s]\u001b[A\n",
      " 61%|██████    | 812/1336 [01:20<00:36, 14.37it/s]\u001b[A\n",
      " 61%|██████    | 815/1336 [01:20<00:30, 16.90it/s]\u001b[A\n",
      " 61%|██████    | 818/1336 [01:20<00:35, 14.49it/s]\u001b[A\n",
      " 61%|██████▏   | 820/1336 [01:20<00:33, 15.40it/s]\u001b[A\n",
      " 62%|██████▏   | 824/1336 [01:20<00:27, 18.85it/s]\u001b[A\n",
      " 62%|██████▏   | 827/1336 [01:20<00:28, 17.75it/s]\u001b[A\n",
      " 62%|██████▏   | 830/1336 [01:21<00:30, 16.45it/s]\u001b[A\n",
      " 62%|██████▏   | 832/1336 [01:21<00:36, 13.90it/s]\u001b[A\n",
      " 62%|██████▏   | 834/1336 [01:21<00:34, 14.46it/s]\u001b[A\n",
      " 63%|██████▎   | 836/1336 [01:21<00:49, 10.08it/s]\u001b[A\n",
      " 63%|██████▎   | 841/1336 [01:21<00:37, 13.14it/s]\u001b[A\n",
      " 63%|██████▎   | 844/1336 [01:21<00:34, 14.18it/s]\u001b[A\n",
      " 63%|██████▎   | 847/1336 [01:22<00:31, 15.42it/s]\u001b[A\n",
      " 64%|██████▎   | 850/1336 [01:22<00:28, 16.83it/s]\u001b[A\n",
      " 64%|██████▍   | 853/1336 [01:22<00:26, 18.36it/s]\u001b[A\n",
      " 64%|██████▍   | 857/1336 [01:22<00:22, 21.55it/s]\u001b[A\n",
      " 65%|██████▍   | 862/1336 [01:22<00:19, 24.86it/s]\u001b[A\n",
      " 65%|██████▍   | 865/1336 [01:22<00:19, 24.50it/s]\u001b[A\n",
      " 65%|██████▌   | 870/1336 [01:22<00:16, 28.76it/s]\u001b[A\n",
      " 65%|██████▌   | 875/1336 [01:22<00:14, 31.41it/s]\u001b[A\n",
      " 66%|██████▌   | 879/1336 [01:23<00:25, 17.78it/s]\u001b[A\n",
      " 66%|██████▌   | 882/1336 [01:23<00:23, 19.71it/s]\u001b[A\n",
      " 66%|██████▌   | 885/1336 [01:23<00:20, 21.89it/s]\u001b[A\n",
      " 67%|██████▋   | 889/1336 [01:23<00:18, 24.30it/s]\u001b[A\n",
      " 67%|██████▋   | 895/1336 [01:23<00:16, 27.51it/s]\u001b[A\n",
      " 67%|██████▋   | 899/1336 [01:24<00:19, 22.06it/s]\u001b[A\n",
      " 68%|██████▊   | 902/1336 [01:24<00:20, 20.76it/s]\u001b[A\n",
      " 68%|██████▊   | 906/1336 [01:24<00:18, 23.36it/s]\u001b[A\n",
      " 68%|██████▊   | 909/1336 [01:24<00:17, 24.58it/s]\u001b[A\n",
      " 68%|██████▊   | 915/1336 [01:24<00:14, 28.20it/s]\u001b[A\n",
      " 69%|██████▉   | 919/1336 [01:24<00:14, 27.87it/s]\u001b[A\n",
      " 69%|██████▉   | 923/1336 [01:25<00:15, 27.36it/s]\u001b[A\n",
      " 70%|██████▉   | 929/1336 [01:25<00:12, 32.24it/s]\u001b[A\n",
      " 70%|██████▉   | 933/1336 [01:25<00:13, 30.77it/s]\u001b[A\n",
      " 70%|███████   | 937/1336 [01:25<00:14, 27.61it/s]\u001b[A\n",
      " 71%|███████   | 943/1336 [01:25<00:12, 31.91it/s]\u001b[A\n",
      " 71%|███████   | 948/1336 [01:25<00:11, 34.95it/s]\u001b[A\n",
      " 71%|███████▏  | 952/1336 [01:25<00:11, 32.84it/s]\u001b[A\n",
      " 72%|███████▏  | 956/1336 [01:25<00:11, 33.62it/s]\u001b[A\n",
      " 72%|███████▏  | 962/1336 [01:26<00:10, 36.41it/s]\u001b[A\n",
      " 72%|███████▏  | 966/1336 [01:26<00:09, 37.38it/s]\u001b[A\n",
      " 73%|███████▎  | 970/1336 [01:26<00:10, 34.51it/s]\u001b[A\n",
      " 73%|███████▎  | 974/1336 [01:26<00:10, 35.92it/s]\u001b[A\n",
      " 73%|███████▎  | 979/1336 [01:26<00:09, 36.79it/s]\u001b[A\n",
      " 74%|███████▎  | 984/1336 [01:26<00:08, 39.73it/s]\u001b[A\n",
      " 74%|███████▍  | 989/1336 [01:26<00:08, 42.26it/s]\u001b[A\n",
      " 74%|███████▍  | 994/1336 [01:27<00:11, 30.93it/s]\u001b[A\n",
      " 75%|███████▍  | 1000/1336 [01:27<00:09, 34.21it/s]\u001b[A\n",
      " 75%|███████▌  | 1004/1336 [01:27<00:09, 34.11it/s]\u001b[A\n",
      " 75%|███████▌  | 1008/1336 [01:27<00:11, 28.03it/s]\u001b[A\n",
      " 76%|███████▌  | 1012/1336 [01:27<00:11, 28.23it/s]\u001b[A\n",
      " 76%|███████▌  | 1016/1336 [01:27<00:10, 30.81it/s]\u001b[A\n",
      " 76%|███████▋  | 1020/1336 [01:27<00:10, 29.60it/s]\u001b[A\n",
      " 77%|███████▋  | 1024/1336 [01:27<00:09, 32.10it/s]\u001b[A\n",
      " 77%|███████▋  | 1028/1336 [01:28<00:09, 32.45it/s]\u001b[A\n",
      " 77%|███████▋  | 1032/1336 [01:28<00:08, 34.37it/s]\u001b[A\n",
      " 78%|███████▊  | 1036/1336 [01:28<00:10, 28.34it/s]\u001b[A\n",
      " 78%|███████▊  | 1040/1336 [01:28<00:13, 21.81it/s]\u001b[A\n",
      " 78%|███████▊  | 1043/1336 [01:28<00:12, 23.40it/s]\u001b[A\n",
      " 78%|███████▊  | 1048/1336 [01:28<00:10, 27.39it/s]\u001b[A\n",
      " 79%|███████▊  | 1052/1336 [01:29<00:10, 26.52it/s]\u001b[A\n",
      " 79%|███████▉  | 1056/1336 [01:29<00:10, 27.10it/s]\u001b[A\n",
      " 79%|███████▉  | 1060/1336 [01:29<00:10, 26.96it/s]\u001b[A\n",
      " 80%|███████▉  | 1065/1336 [01:29<00:08, 30.32it/s]\u001b[A\n",
      " 80%|████████  | 1069/1336 [01:30<00:17, 14.93it/s]\u001b[A\n",
      " 80%|████████  | 1074/1336 [01:30<00:14, 18.41it/s]\u001b[A\n",
      " 81%|████████  | 1078/1336 [01:30<00:11, 21.95it/s]\u001b[A\n",
      " 81%|████████  | 1083/1336 [01:30<00:10, 24.30it/s]\u001b[A\n",
      " 81%|████████▏ | 1088/1336 [01:30<00:09, 26.98it/s]\u001b[A\n",
      " 82%|████████▏ | 1092/1336 [01:30<00:14, 17.29it/s]\u001b[A\n",
      " 82%|████████▏ | 1095/1336 [01:31<00:17, 14.02it/s]\u001b[A\n",
      " 82%|████████▏ | 1098/1336 [01:31<00:14, 16.21it/s]\u001b[A\n",
      " 83%|████████▎ | 1104/1336 [01:31<00:11, 20.42it/s]\u001b[A\n",
      " 83%|████████▎ | 1108/1336 [01:31<00:14, 16.15it/s]\u001b[A\n",
      " 83%|████████▎ | 1111/1336 [01:32<00:16, 13.41it/s]\u001b[A\n",
      " 84%|████████▎ | 1116/1336 [01:32<00:13, 16.80it/s]\u001b[A\n",
      " 84%|████████▍ | 1119/1336 [01:32<00:19, 11.29it/s]\u001b[A\n",
      " 84%|████████▍ | 1124/1336 [01:32<00:14, 14.57it/s]\u001b[A\n",
      " 84%|████████▍ | 1127/1336 [01:33<00:13, 15.46it/s]\u001b[A\n",
      " 85%|████████▍ | 1130/1336 [01:33<00:11, 17.70it/s]\u001b[A\n",
      " 85%|████████▍ | 1133/1336 [01:33<00:11, 17.15it/s]\u001b[A\n",
      " 85%|████████▌ | 1139/1336 [01:33<00:09, 21.30it/s]\u001b[A\n",
      " 86%|████████▌ | 1143/1336 [01:33<00:08, 23.32it/s]\u001b[A\n",
      " 86%|████████▌ | 1148/1336 [01:33<00:06, 27.56it/s]\u001b[A\n",
      " 86%|████████▌ | 1152/1336 [01:33<00:08, 22.86it/s]\u001b[A\n",
      " 87%|████████▋ | 1157/1336 [01:34<00:06, 26.77it/s]\u001b[A\n",
      " 87%|████████▋ | 1161/1336 [01:34<00:07, 23.21it/s]\u001b[A\n",
      " 87%|████████▋ | 1164/1336 [01:34<00:09, 18.97it/s]\u001b[A\n",
      " 88%|████████▊ | 1169/1336 [01:34<00:07, 22.85it/s]\u001b[A\n",
      " 88%|████████▊ | 1173/1336 [01:34<00:06, 24.17it/s]\u001b[A\n",
      " 88%|████████▊ | 1177/1336 [01:34<00:05, 26.77it/s]\u001b[A\n",
      " 88%|████████▊ | 1181/1336 [01:35<00:05, 28.47it/s]\u001b[A\n",
      " 89%|████████▊ | 1185/1336 [01:35<00:04, 30.81it/s]\u001b[A\n",
      " 89%|████████▉ | 1190/1336 [01:35<00:04, 34.09it/s]\u001b[A\n",
      " 89%|████████▉ | 1194/1336 [01:35<00:09, 15.75it/s]\u001b[A\n",
      " 90%|████████▉ | 1197/1336 [01:35<00:08, 16.66it/s]\u001b[A\n",
      " 90%|████████▉ | 1202/1336 [01:36<00:06, 20.83it/s]\u001b[A\n",
      " 90%|█████████ | 1206/1336 [01:36<00:05, 23.82it/s]\u001b[A\n",
      " 91%|█████████ | 1210/1336 [01:36<00:05, 24.56it/s]\u001b[A\n",
      " 91%|█████████ | 1214/1336 [01:36<00:04, 26.11it/s]\u001b[A\n",
      " 91%|█████████ | 1219/1336 [01:36<00:04, 27.29it/s]\u001b[A\n",
      " 92%|█████████▏| 1224/1336 [01:36<00:03, 31.45it/s]\u001b[A\n",
      " 92%|█████████▏| 1228/1336 [01:36<00:03, 29.24it/s]\u001b[A\n",
      " 92%|█████████▏| 1232/1336 [01:37<00:04, 24.66it/s]\u001b[A\n",
      " 93%|█████████▎| 1236/1336 [01:37<00:03, 26.76it/s]\u001b[A\n",
      " 93%|█████████▎| 1239/1336 [01:37<00:03, 26.40it/s]\u001b[A\n",
      " 93%|█████████▎| 1244/1336 [01:37<00:03, 29.34it/s]\u001b[A\n",
      " 93%|█████████▎| 1249/1336 [01:37<00:02, 31.10it/s]\u001b[A\n",
      " 94%|█████████▍| 1253/1336 [01:37<00:02, 30.47it/s]\u001b[A\n",
      " 94%|█████████▍| 1257/1336 [01:37<00:02, 27.69it/s]\u001b[A\n",
      " 94%|█████████▍| 1260/1336 [01:38<00:02, 28.04it/s]\u001b[A\n",
      " 95%|█████████▍| 1264/1336 [01:38<00:02, 28.90it/s]\u001b[A\n",
      " 95%|█████████▍| 1268/1336 [01:38<00:02, 30.35it/s]\u001b[A\n",
      " 95%|█████████▌| 1272/1336 [01:38<00:02, 28.81it/s]\u001b[A\n",
      " 96%|█████████▌| 1276/1336 [01:38<00:01, 30.61it/s]\u001b[A\n",
      " 96%|█████████▌| 1280/1336 [01:38<00:02, 24.18it/s]\u001b[A\n",
      " 96%|█████████▌| 1285/1336 [01:38<00:01, 28.27it/s]\u001b[A\n",
      " 96%|█████████▋| 1289/1336 [01:38<00:01, 29.15it/s]\u001b[A\n",
      " 97%|█████████▋| 1294/1336 [01:39<00:01, 32.42it/s]\u001b[A\n",
      " 97%|█████████▋| 1299/1336 [01:39<00:01, 34.41it/s]\u001b[A\n",
      " 98%|█████████▊| 1303/1336 [01:39<00:01, 31.01it/s]\u001b[A\n",
      " 98%|█████████▊| 1307/1336 [01:39<00:01, 15.06it/s]\u001b[A\n",
      " 98%|█████████▊| 1312/1336 [01:40<00:01, 18.32it/s]\u001b[A\n",
      " 99%|█████████▊| 1317/1336 [01:40<00:00, 22.35it/s]\u001b[A\n",
      " 99%|█████████▉| 1321/1336 [01:40<00:00, 19.76it/s]\u001b[A\n",
      " 99%|█████████▉| 1328/1336 [01:40<00:00, 24.90it/s]\u001b[A\n",
      "100%|█████████▉| 1333/1336 [01:40<00:00, 27.33it/s]\u001b[A\n",
      "100%|██████████| 1336/1336 [01:40<00:00, 13.25it/s]\u001b[A\n",
      "  0%|          | 0/1324 [00:00<?, ?it/s]\u001b[A\n",
      "  0%|          | 1/1324 [00:00<02:30,  8.81it/s]\u001b[A\n",
      "  0%|          | 4/1324 [00:00<02:07, 10.31it/s]\u001b[A\n",
      "  1%|          | 7/1324 [00:00<01:48, 12.13it/s]\u001b[A\n",
      "  1%|          | 9/1324 [00:00<01:46, 12.32it/s]\u001b[A\n",
      "  1%|          | 12/1324 [00:00<01:34, 13.85it/s]\u001b[A\n",
      "  1%|          | 15/1324 [00:00<01:25, 15.40it/s]\u001b[A\n",
      "  1%|▏         | 18/1324 [00:01<01:14, 17.43it/s]\u001b[A\n",
      "  2%|▏         | 20/1324 [00:01<01:26, 15.00it/s]\u001b[A\n",
      "  2%|▏         | 22/1324 [00:01<01:33, 13.88it/s]\u001b[A\n",
      "  2%|▏         | 26/1324 [00:01<01:18, 16.52it/s]\u001b[A\n",
      "  2%|▏         | 28/1324 [00:01<01:19, 16.21it/s]\u001b[A\n",
      "  2%|▏         | 32/1324 [00:01<01:07, 19.06it/s]\u001b[A\n",
      "  3%|▎         | 35/1324 [00:01<01:10, 18.27it/s]\u001b[A\n",
      "  3%|▎         | 38/1324 [00:02<01:05, 19.58it/s]\u001b[A\n",
      "  3%|▎         | 41/1324 [00:02<01:05, 19.57it/s]\u001b[A\n",
      "  3%|▎         | 46/1324 [00:02<00:54, 23.50it/s]\u001b[A\n",
      "  4%|▍         | 50/1324 [00:02<00:50, 25.31it/s]\u001b[A\n",
      "  4%|▍         | 53/1324 [00:02<00:54, 23.33it/s]\u001b[A\n",
      "  4%|▍         | 56/1324 [00:02<00:53, 23.76it/s]\u001b[A\n",
      "  4%|▍         | 59/1324 [00:02<00:49, 25.34it/s]\u001b[A\n",
      "  5%|▍         | 63/1324 [00:02<00:45, 27.72it/s]\u001b[A\n",
      "  5%|▍         | 66/1324 [00:03<00:55, 22.52it/s]\u001b[A\n",
      "  5%|▌         | 70/1324 [00:03<00:53, 23.58it/s]\u001b[A\n",
      "  6%|▌         | 73/1324 [00:03<00:55, 22.54it/s]\u001b[A\n",
      "  6%|▌         | 76/1324 [00:03<00:52, 23.91it/s]\u001b[A\n",
      "  6%|▌         | 79/1324 [00:03<00:59, 20.78it/s]\u001b[A\n",
      "  6%|▋         | 83/1324 [00:03<00:54, 22.87it/s]\u001b[A\n",
      "  6%|▋         | 86/1324 [00:04<01:02, 19.93it/s]\u001b[A\n",
      "  7%|▋         | 89/1324 [00:04<00:59, 20.74it/s]\u001b[A\n",
      "  7%|▋         | 92/1324 [00:04<01:03, 19.50it/s]\u001b[A\n",
      "  7%|▋         | 95/1324 [00:04<01:01, 20.07it/s]\u001b[A\n",
      "  7%|▋         | 98/1324 [00:04<00:56, 21.64it/s]\u001b[A\n",
      "  8%|▊         | 101/1324 [00:04<00:58, 20.83it/s]\u001b[A\n",
      "  8%|▊         | 104/1324 [00:04<00:59, 20.54it/s]\u001b[A\n",
      "  8%|▊         | 107/1324 [00:05<00:54, 22.45it/s]\u001b[A\n",
      "  8%|▊         | 111/1324 [00:05<00:51, 23.50it/s]\u001b[A\n",
      "  9%|▊         | 114/1324 [00:05<00:53, 22.55it/s]\u001b[A\n",
      "  9%|▉         | 118/1324 [00:05<00:47, 25.51it/s]\u001b[A\n",
      "  9%|▉         | 121/1324 [00:05<00:45, 26.32it/s]\u001b[A\n",
      "  9%|▉         | 124/1324 [00:05<00:43, 27.32it/s]\u001b[A\n",
      " 10%|▉         | 127/1324 [00:05<00:47, 25.34it/s]\u001b[A\n",
      " 10%|▉         | 131/1324 [00:05<00:42, 27.99it/s]\u001b[A\n",
      " 10%|█         | 134/1324 [00:06<00:46, 25.63it/s]\u001b[A\n",
      " 10%|█         | 137/1324 [00:06<00:53, 22.09it/s]\u001b[A\n",
      " 11%|█         | 140/1324 [00:06<00:54, 21.88it/s]\u001b[A\n",
      " 11%|█         | 143/1324 [00:06<00:50, 23.45it/s]\u001b[A\n",
      " 11%|█         | 146/1324 [00:06<00:52, 22.46it/s]\u001b[A\n",
      " 11%|█▏        | 150/1324 [00:06<00:47, 24.60it/s]\u001b[A\n",
      " 12%|█▏        | 153/1324 [00:06<00:55, 21.17it/s]\u001b[A\n",
      " 12%|█▏        | 157/1324 [00:07<00:50, 23.28it/s]\u001b[A\n",
      " 12%|█▏        | 160/1324 [00:07<01:01, 19.05it/s]\u001b[A\n",
      " 12%|█▏        | 163/1324 [00:07<01:00, 19.32it/s]\u001b[A\n",
      " 13%|█▎        | 167/1324 [00:07<00:55, 20.93it/s]\u001b[A\n",
      " 13%|█▎        | 171/1324 [00:07<00:50, 22.86it/s]\u001b[A\n",
      " 13%|█▎        | 174/1324 [00:07<00:50, 22.87it/s]\u001b[A\n",
      " 14%|█▎        | 179/1324 [00:07<00:43, 26.05it/s]\u001b[A\n",
      " 14%|█▎        | 182/1324 [00:08<00:46, 24.38it/s]\u001b[A\n",
      " 14%|█▍        | 185/1324 [00:08<00:45, 24.99it/s]\u001b[A\n",
      " 14%|█▍        | 188/1324 [00:08<00:47, 23.76it/s]\u001b[A\n",
      " 14%|█▍        | 191/1324 [00:08<00:51, 22.09it/s]\u001b[A\n",
      " 15%|█▍        | 194/1324 [00:08<00:51, 22.03it/s]\u001b[A\n",
      " 15%|█▍        | 198/1324 [00:08<00:46, 24.26it/s]\u001b[A\n",
      " 15%|█▌        | 201/1324 [00:08<00:49, 22.67it/s]\u001b[A\n",
      " 15%|█▌        | 205/1324 [00:09<00:43, 25.48it/s]\u001b[A\n",
      " 16%|█▌        | 208/1324 [00:09<00:46, 24.24it/s]\u001b[A\n",
      " 16%|█▌        | 211/1324 [00:09<00:44, 24.80it/s]\u001b[A\n",
      " 16%|█▌        | 214/1324 [00:09<00:45, 24.42it/s]\u001b[A\n",
      " 16%|█▋        | 217/1324 [00:09<00:46, 23.63it/s]\u001b[A\n",
      " 17%|█▋        | 221/1324 [00:09<00:45, 24.30it/s]\u001b[A\n",
      " 17%|█▋        | 224/1324 [00:09<00:50, 21.93it/s]\u001b[A\n",
      " 17%|█▋        | 227/1324 [00:10<00:53, 20.65it/s]\u001b[A\n",
      " 17%|█▋        | 230/1324 [00:10<00:59, 18.47it/s]\u001b[A\n",
      " 18%|█▊        | 232/1324 [00:10<01:03, 17.27it/s]\u001b[A\n",
      " 18%|█▊        | 235/1324 [00:10<01:04, 16.76it/s]\u001b[A\n",
      " 18%|█▊        | 239/1324 [00:10<00:56, 19.18it/s]\u001b[A\n",
      " 18%|█▊        | 243/1324 [00:10<00:48, 22.15it/s]\u001b[A\n",
      " 19%|█▊        | 246/1324 [00:10<00:52, 20.69it/s]\u001b[A\n",
      " 19%|█▉        | 249/1324 [00:11<00:49, 21.61it/s]\u001b[A\n",
      " 19%|█▉        | 252/1324 [00:11<00:48, 21.99it/s]\u001b[A\n",
      " 19%|█▉        | 255/1324 [00:11<00:45, 23.27it/s]\u001b[A\n",
      " 19%|█▉        | 258/1324 [00:11<00:46, 22.70it/s]\u001b[A\n",
      " 20%|█▉        | 261/1324 [00:11<00:45, 23.33it/s]\u001b[A\n",
      " 20%|█▉        | 264/1324 [00:11<00:43, 24.26it/s]\u001b[A\n",
      " 20%|██        | 267/1324 [00:11<00:51, 20.44it/s]\u001b[A\n",
      " 20%|██        | 270/1324 [00:12<00:48, 21.74it/s]\u001b[A\n",
      " 21%|██        | 273/1324 [00:12<00:45, 23.13it/s]\u001b[A\n",
      " 21%|██        | 276/1324 [00:12<00:45, 22.83it/s]\u001b[A\n",
      " 21%|██        | 279/1324 [00:12<00:44, 23.62it/s]\u001b[A\n",
      " 21%|██▏       | 282/1324 [00:12<00:41, 24.86it/s]\u001b[A\n",
      " 22%|██▏       | 285/1324 [00:12<00:54, 18.90it/s]\u001b[A\n",
      " 22%|██▏       | 288/1324 [00:12<00:50, 20.54it/s]\u001b[A\n",
      " 22%|██▏       | 291/1324 [00:13<00:52, 19.59it/s]\u001b[A\n",
      " 22%|██▏       | 294/1324 [00:13<00:47, 21.50it/s]\u001b[A\n",
      " 22%|██▏       | 297/1324 [00:13<00:45, 22.75it/s]\u001b[A\n",
      " 23%|██▎       | 300/1324 [00:13<00:43, 23.43it/s]\u001b[A\n",
      " 23%|██▎       | 304/1324 [00:13<00:41, 24.39it/s]\u001b[A\n",
      " 23%|██▎       | 310/1324 [00:13<00:35, 28.64it/s]\u001b[A\n",
      " 24%|██▎       | 314/1324 [00:13<00:37, 26.66it/s]\u001b[A\n",
      " 24%|██▍       | 317/1324 [00:13<00:38, 25.83it/s]\u001b[A\n",
      " 24%|██▍       | 320/1324 [00:14<00:39, 25.16it/s]\u001b[A\n",
      " 24%|██▍       | 323/1324 [00:14<00:39, 25.20it/s]\u001b[A\n",
      " 25%|██▍       | 326/1324 [00:14<00:37, 26.29it/s]\u001b[A\n",
      " 25%|██▍       | 329/1324 [00:14<00:38, 25.93it/s]\u001b[A\n",
      " 25%|██▌       | 332/1324 [00:14<00:38, 25.85it/s]\u001b[A\n",
      " 25%|██▌       | 337/1324 [00:14<00:34, 28.94it/s]\u001b[A\n",
      " 26%|██▌       | 341/1324 [00:14<00:31, 31.20it/s]\u001b[A\n",
      " 26%|██▌       | 347/1324 [00:14<00:27, 35.79it/s]\u001b[A\n",
      " 27%|██▋       | 351/1324 [00:15<00:32, 29.97it/s]\u001b[A\n",
      " 27%|██▋       | 355/1324 [00:15<00:31, 30.92it/s]\u001b[A\n",
      " 27%|██▋       | 359/1324 [00:15<00:32, 29.55it/s]\u001b[A\n",
      " 27%|██▋       | 363/1324 [00:15<00:36, 26.26it/s]\u001b[A\n",
      " 28%|██▊       | 366/1324 [00:15<00:37, 25.71it/s]\u001b[A\n",
      " 28%|██▊       | 369/1324 [00:15<00:39, 24.45it/s]\u001b[A\n",
      " 28%|██▊       | 374/1324 [00:15<00:33, 28.20it/s]\u001b[A\n",
      " 29%|██▊       | 378/1324 [00:16<00:44, 21.49it/s]\u001b[A\n",
      " 29%|██▉       | 383/1324 [00:16<00:37, 25.26it/s]\u001b[A\n",
      " 29%|██▉       | 387/1324 [00:16<00:33, 28.33it/s]\u001b[A\n",
      " 30%|██▉       | 391/1324 [00:16<00:31, 29.81it/s]\u001b[A\n",
      " 30%|██▉       | 396/1324 [00:16<00:28, 32.83it/s]\u001b[A\n",
      " 30%|███       | 400/1324 [00:16<00:27, 33.26it/s]\u001b[A\n",
      " 31%|███       | 404/1324 [00:16<00:26, 34.77it/s]\u001b[A\n",
      " 31%|███       | 408/1324 [00:17<00:36, 25.16it/s]\u001b[A\n",
      " 31%|███       | 413/1324 [00:17<00:30, 29.54it/s]\u001b[A\n",
      " 31%|███▏      | 417/1324 [00:17<00:29, 31.20it/s]\u001b[A\n",
      " 32%|███▏      | 421/1324 [00:17<00:30, 29.41it/s]\u001b[A\n",
      " 32%|███▏      | 425/1324 [00:17<00:30, 29.11it/s]\u001b[A\n",
      " 32%|███▏      | 429/1324 [00:17<00:33, 26.37it/s]\u001b[A\n",
      " 33%|███▎      | 433/1324 [00:17<00:31, 28.28it/s]\u001b[A\n",
      " 33%|███▎      | 437/1324 [00:18<00:30, 29.42it/s]\u001b[A\n",
      " 33%|███▎      | 441/1324 [00:18<00:29, 29.59it/s]\u001b[A\n",
      " 34%|███▎      | 446/1324 [00:18<00:27, 32.28it/s]\u001b[A\n",
      " 34%|███▍      | 450/1324 [00:18<00:25, 34.03it/s]\u001b[A\n",
      " 34%|███▍      | 454/1324 [00:18<00:27, 31.81it/s]\u001b[A\n",
      " 35%|███▍      | 458/1324 [00:18<00:31, 27.41it/s]\u001b[A\n",
      " 35%|███▍      | 463/1324 [00:18<00:27, 31.07it/s]\u001b[A\n",
      " 35%|███▌      | 467/1324 [00:19<00:29, 29.31it/s]\u001b[A\n",
      " 36%|███▌      | 472/1324 [00:19<00:27, 31.47it/s]\u001b[A\n",
      " 36%|███▌      | 477/1324 [00:19<00:24, 35.10it/s]\u001b[A\n",
      " 36%|███▋      | 483/1324 [00:19<00:21, 39.54it/s]\u001b[A\n",
      " 37%|███▋      | 488/1324 [00:19<00:20, 40.63it/s]\u001b[A\n",
      " 37%|███▋      | 493/1324 [00:19<00:29, 28.46it/s]\u001b[A\n",
      " 38%|███▊      | 497/1324 [00:19<00:27, 30.16it/s]\u001b[A\n",
      " 38%|███▊      | 501/1324 [00:20<00:26, 30.77it/s]\u001b[A\n",
      " 38%|███▊      | 506/1324 [00:20<00:24, 33.76it/s]\u001b[A\n",
      " 39%|███▊      | 510/1324 [00:20<00:25, 32.45it/s]\u001b[A\n",
      " 39%|███▉      | 514/1324 [00:20<00:25, 31.35it/s]\u001b[A\n",
      " 39%|███▉      | 519/1324 [00:20<00:22, 35.05it/s]\u001b[A\n",
      " 40%|███▉      | 523/1324 [00:20<00:31, 25.46it/s]\u001b[A\n"
     ]
    },
    {
     "name": "stderr",
     "output_type": "stream",
     "text": [
      " 40%|███▉      | 527/1324 [00:20<00:30, 26.21it/s]\u001b[A\n",
      " 40%|████      | 531/1324 [00:21<00:28, 27.41it/s]\u001b[A\n",
      " 40%|████      | 535/1324 [00:21<00:26, 29.75it/s]\u001b[A\n",
      " 41%|████      | 539/1324 [00:21<00:24, 31.62it/s]\u001b[A\n",
      " 41%|████      | 543/1324 [00:21<00:25, 30.48it/s]\u001b[A\n",
      " 41%|████▏     | 547/1324 [00:21<00:24, 31.08it/s]\u001b[A\n",
      " 42%|████▏     | 551/1324 [00:21<00:29, 26.14it/s]\u001b[A\n",
      " 42%|████▏     | 555/1324 [00:21<00:26, 29.14it/s]\u001b[A\n",
      " 42%|████▏     | 561/1324 [00:21<00:22, 34.35it/s]\u001b[A\n",
      " 43%|████▎     | 565/1324 [00:22<00:26, 28.62it/s]\u001b[A\n",
      " 43%|████▎     | 569/1324 [00:22<00:26, 29.03it/s]\u001b[A\n",
      " 43%|████▎     | 573/1324 [00:22<00:24, 30.55it/s]\u001b[A\n",
      " 44%|████▎     | 577/1324 [00:22<00:25, 29.78it/s]\u001b[A\n",
      " 44%|████▍     | 581/1324 [00:22<00:26, 28.53it/s]\u001b[A\n",
      " 44%|████▍     | 585/1324 [00:22<00:26, 28.26it/s]\u001b[A\n",
      " 44%|████▍     | 589/1324 [00:22<00:24, 29.90it/s]\u001b[A\n",
      " 45%|████▍     | 594/1324 [00:23<00:21, 33.39it/s]\u001b[A\n",
      " 45%|████▌     | 599/1324 [00:23<00:20, 34.75it/s]\u001b[A\n",
      " 46%|████▌     | 605/1324 [00:23<00:18, 38.90it/s]\u001b[A\n",
      " 46%|████▌     | 610/1324 [00:23<00:20, 34.03it/s]\u001b[A\n",
      " 46%|████▋     | 614/1324 [00:23<00:21, 33.13it/s]\u001b[A\n",
      " 47%|████▋     | 618/1324 [00:23<00:22, 31.13it/s]\u001b[A\n",
      " 47%|████▋     | 623/1324 [00:23<00:20, 33.44it/s]\u001b[A\n",
      " 47%|████▋     | 627/1324 [00:24<00:30, 22.75it/s]\u001b[A\n",
      " 48%|████▊     | 631/1324 [00:24<00:27, 25.36it/s]\u001b[A\n",
      " 48%|████▊     | 637/1324 [00:24<00:22, 30.03it/s]\u001b[A\n",
      " 49%|████▊     | 643/1324 [00:24<00:19, 34.57it/s]\u001b[A\n",
      " 49%|████▉     | 648/1324 [00:24<00:19, 34.17it/s]\u001b[A\n",
      " 49%|████▉     | 653/1324 [00:24<00:18, 36.56it/s]\u001b[A\n",
      " 50%|████▉     | 658/1324 [00:24<00:19, 34.78it/s]\u001b[A\n",
      " 50%|█████     | 663/1324 [00:25<00:17, 37.86it/s]\u001b[A\n",
      " 50%|█████     | 668/1324 [00:25<00:18, 35.79it/s]\u001b[A\n",
      " 51%|█████     | 673/1324 [00:25<00:17, 36.57it/s]\u001b[A\n",
      " 51%|█████     | 678/1324 [00:25<00:17, 37.95it/s]\u001b[A\n",
      " 52%|█████▏    | 682/1324 [00:25<00:22, 28.14it/s]\u001b[A\n",
      " 52%|█████▏    | 686/1324 [00:25<00:24, 25.83it/s]\u001b[A\n",
      " 52%|█████▏    | 689/1324 [00:25<00:24, 25.61it/s]\u001b[A\n",
      " 52%|█████▏    | 693/1324 [00:26<00:22, 28.00it/s]\u001b[A\n",
      " 53%|█████▎    | 697/1324 [00:26<00:25, 24.33it/s]\u001b[A\n",
      " 53%|█████▎    | 701/1324 [00:26<00:23, 27.01it/s]\u001b[A\n",
      " 53%|█████▎    | 706/1324 [00:26<00:20, 29.99it/s]\u001b[A\n",
      " 54%|█████▎    | 711/1324 [00:26<00:18, 32.41it/s]\u001b[A\n",
      " 54%|█████▍    | 715/1324 [00:26<00:18, 32.59it/s]\u001b[A\n",
      " 54%|█████▍    | 721/1324 [00:26<00:16, 36.48it/s]\u001b[A\n",
      " 55%|█████▍    | 727/1324 [00:27<00:15, 38.71it/s]\u001b[A\n",
      " 55%|█████▌    | 732/1324 [00:27<00:15, 38.69it/s]\u001b[A\n",
      " 56%|█████▌    | 737/1324 [00:27<00:14, 39.35it/s]\u001b[A\n",
      " 56%|█████▌    | 743/1324 [00:27<00:13, 43.58it/s]\u001b[A\n",
      " 56%|█████▋    | 748/1324 [00:27<00:13, 43.65it/s]\u001b[A\n",
      " 57%|█████▋    | 753/1324 [00:27<00:14, 38.96it/s]\u001b[A\n",
      " 57%|█████▋    | 758/1324 [00:27<00:14, 37.80it/s]\u001b[A\n",
      " 58%|█████▊    | 762/1324 [00:27<00:15, 36.52it/s]\u001b[A\n",
      " 58%|█████▊    | 766/1324 [00:28<00:15, 35.16it/s]\u001b[A\n",
      " 58%|█████▊    | 770/1324 [00:28<00:20, 27.60it/s]\u001b[A\n",
      " 58%|█████▊    | 774/1324 [00:28<00:20, 27.31it/s]\u001b[A\n",
      " 59%|█████▉    | 780/1324 [00:28<00:16, 32.27it/s]\u001b[A\n",
      " 59%|█████▉    | 785/1324 [00:28<00:14, 35.95it/s]\u001b[A\n",
      " 60%|█████▉    | 790/1324 [00:28<00:14, 35.66it/s]\u001b[A\n",
      " 60%|█████▉    | 794/1324 [00:28<00:14, 35.75it/s]\u001b[A\n",
      " 60%|██████    | 798/1324 [00:29<00:15, 33.64it/s]\u001b[A\n",
      " 61%|██████    | 802/1324 [00:29<00:15, 33.90it/s]\u001b[A\n",
      " 61%|██████    | 807/1324 [00:29<00:14, 36.41it/s]\u001b[A\n",
      " 61%|██████▏   | 811/1324 [00:29<00:18, 28.08it/s]\u001b[A\n",
      " 62%|██████▏   | 815/1324 [00:29<00:16, 30.60it/s]\u001b[A\n",
      " 62%|██████▏   | 819/1324 [00:29<00:16, 30.59it/s]\u001b[A\n",
      " 62%|██████▏   | 824/1324 [00:29<00:15, 32.57it/s]\u001b[A\n",
      " 63%|██████▎   | 828/1324 [00:29<00:16, 29.96it/s]\u001b[A\n",
      " 63%|██████▎   | 833/1324 [00:30<00:14, 33.62it/s]\u001b[A\n",
      " 63%|██████▎   | 839/1324 [00:30<00:12, 38.03it/s]\u001b[A\n",
      " 64%|██████▎   | 844/1324 [00:30<00:11, 40.43it/s]\u001b[A\n",
      " 64%|██████▍   | 849/1324 [00:30<00:13, 35.27it/s]\u001b[A\n",
      " 65%|██████▍   | 854/1324 [00:30<00:12, 37.15it/s]\u001b[A\n",
      " 65%|██████▍   | 858/1324 [00:30<00:13, 35.43it/s]\u001b[A\n",
      " 65%|██████▌   | 864/1324 [00:30<00:12, 36.56it/s]\u001b[A\n",
      " 66%|██████▌   | 869/1324 [00:30<00:11, 39.52it/s]\u001b[A\n",
      " 66%|██████▌   | 874/1324 [00:31<00:12, 37.14it/s]\u001b[A\n",
      " 66%|██████▋   | 879/1324 [00:31<00:11, 39.66it/s]\u001b[A\n",
      " 67%|██████▋   | 885/1324 [00:31<00:10, 42.41it/s]\u001b[A\n",
      " 67%|██████▋   | 892/1324 [00:31<00:09, 47.78it/s]\u001b[A\n",
      " 68%|██████▊   | 898/1324 [00:31<00:09, 45.61it/s]\u001b[A\n",
      " 68%|██████▊   | 903/1324 [00:31<00:15, 26.93it/s]\u001b[A\n",
      " 69%|██████▊   | 907/1324 [00:32<00:14, 28.60it/s]\u001b[A\n",
      " 69%|██████▉   | 911/1324 [00:32<00:21, 18.85it/s]\u001b[A\n",
      " 69%|██████▉   | 914/1324 [00:32<00:26, 15.48it/s]\u001b[A\n",
      " 69%|██████▉   | 917/1324 [00:32<00:23, 17.62it/s]\u001b[A\n",
      " 69%|██████▉   | 920/1324 [00:33<00:21, 18.96it/s]\u001b[A\n",
      " 70%|██████▉   | 923/1324 [00:33<00:20, 19.36it/s]\u001b[A\n",
      " 70%|███████   | 927/1324 [00:33<00:17, 22.44it/s]\u001b[A\n",
      " 70%|███████   | 930/1324 [00:33<00:18, 21.17it/s]\u001b[A\n",
      " 70%|███████   | 933/1324 [00:33<00:17, 22.32it/s]\u001b[A\n",
      " 71%|███████   | 937/1324 [00:33<00:15, 25.02it/s]\u001b[A\n",
      " 71%|███████   | 941/1324 [00:33<00:14, 27.31it/s]\u001b[A\n",
      " 71%|███████▏  | 944/1324 [00:33<00:14, 25.98it/s]\u001b[A\n",
      " 72%|███████▏  | 948/1324 [00:34<00:14, 26.55it/s]\u001b[A\n",
      " 72%|███████▏  | 954/1324 [00:34<00:11, 31.57it/s]\u001b[A\n",
      " 72%|███████▏  | 958/1324 [00:34<00:11, 32.66it/s]\u001b[A\n",
      " 73%|███████▎  | 962/1324 [00:34<00:11, 31.25it/s]\u001b[A\n",
      " 73%|███████▎  | 968/1324 [00:34<00:10, 34.95it/s]\u001b[A\n",
      " 74%|███████▎  | 974/1324 [00:34<00:09, 37.96it/s]\u001b[A\n",
      " 74%|███████▍  | 979/1324 [00:34<00:09, 38.05it/s]\u001b[A\n",
      " 74%|███████▍  | 984/1324 [00:34<00:08, 38.08it/s]\u001b[A\n",
      " 75%|███████▍  | 988/1324 [00:35<00:09, 36.83it/s]\u001b[A\n",
      " 75%|███████▌  | 993/1324 [00:35<00:08, 39.27it/s]\u001b[A\n",
      " 75%|███████▌  | 998/1324 [00:35<00:09, 35.50it/s]\u001b[A\n",
      " 76%|███████▌  | 1003/1324 [00:35<00:09, 35.46it/s]\u001b[A\n",
      " 76%|███████▋  | 1010/1324 [00:35<00:07, 40.83it/s]\u001b[A\n",
      " 77%|███████▋  | 1015/1324 [00:35<00:10, 29.24it/s]\u001b[A\n",
      " 77%|███████▋  | 1019/1324 [00:36<00:18, 16.89it/s]\u001b[A\n",
      " 77%|███████▋  | 1023/1324 [00:36<00:14, 20.25it/s]\u001b[A\n",
      " 78%|███████▊  | 1027/1324 [00:36<00:12, 23.33it/s]\u001b[A\n",
      " 78%|███████▊  | 1031/1324 [00:36<00:12, 23.02it/s]\u001b[A\n",
      " 78%|███████▊  | 1036/1324 [00:36<00:10, 26.83it/s]\u001b[A\n",
      " 79%|███████▊  | 1041/1324 [00:36<00:09, 31.04it/s]\u001b[A\n",
      " 79%|███████▉  | 1045/1324 [00:37<00:08, 31.55it/s]\u001b[A\n",
      " 79%|███████▉  | 1051/1324 [00:37<00:08, 34.11it/s]\u001b[A\n",
      " 80%|███████▉  | 1058/1324 [00:37<00:06, 38.91it/s]\u001b[A\n",
      " 80%|████████  | 1063/1324 [00:37<00:06, 40.30it/s]\u001b[A\n",
      " 81%|████████  | 1068/1324 [00:37<00:07, 33.33it/s]\u001b[A\n",
      " 81%|████████  | 1072/1324 [00:37<00:09, 27.38it/s]\u001b[A\n",
      " 81%|████████▏ | 1079/1324 [00:37<00:07, 32.35it/s]\u001b[A\n",
      " 82%|████████▏ | 1086/1324 [00:38<00:06, 36.94it/s]\u001b[A\n",
      " 82%|████████▏ | 1092/1324 [00:38<00:05, 40.40it/s]\u001b[A\n",
      " 83%|████████▎ | 1097/1324 [00:38<00:06, 34.65it/s]\u001b[A\n",
      " 83%|████████▎ | 1102/1324 [00:38<00:06, 34.66it/s]\u001b[A\n",
      " 84%|████████▎ | 1106/1324 [00:38<00:06, 35.48it/s]\u001b[A\n",
      " 84%|████████▍ | 1110/1324 [00:38<00:05, 36.60it/s]\u001b[A\n",
      " 84%|████████▍ | 1114/1324 [00:38<00:06, 31.67it/s]\u001b[A\n",
      " 85%|████████▍ | 1119/1324 [00:39<00:05, 35.02it/s]\u001b[A\n",
      " 85%|████████▍ | 1124/1324 [00:39<00:05, 34.26it/s]\u001b[A\n",
      " 85%|████████▌ | 1129/1324 [00:39<00:05, 37.32it/s]\u001b[A\n",
      " 86%|████████▌ | 1134/1324 [00:39<00:04, 39.94it/s]\u001b[A\n",
      " 86%|████████▌ | 1140/1324 [00:39<00:04, 41.31it/s]\u001b[A\n",
      " 86%|████████▋ | 1145/1324 [00:39<00:04, 38.45it/s]\u001b[A\n",
      " 87%|████████▋ | 1149/1324 [00:39<00:04, 37.77it/s]\u001b[A\n",
      " 87%|████████▋ | 1153/1324 [00:40<00:06, 27.89it/s]\u001b[A\n",
      " 87%|████████▋ | 1158/1324 [00:40<00:05, 31.59it/s]\u001b[A\n",
      " 88%|████████▊ | 1162/1324 [00:40<00:04, 33.19it/s]\u001b[A\n",
      " 88%|████████▊ | 1167/1324 [00:40<00:04, 33.59it/s]\u001b[A\n",
      " 88%|████████▊ | 1171/1324 [00:40<00:04, 34.80it/s]\u001b[A\n",
      " 89%|████████▊ | 1175/1324 [00:40<00:06, 21.96it/s]\u001b[A\n",
      " 89%|████████▉ | 1178/1324 [00:40<00:06, 23.24it/s]\u001b[A\n",
      " 89%|████████▉ | 1183/1324 [00:41<00:05, 27.43it/s]\u001b[A\n",
      " 90%|████████▉ | 1188/1324 [00:41<00:04, 31.33it/s]\u001b[A\n",
      " 90%|█████████ | 1192/1324 [00:41<00:03, 33.32it/s]\u001b[A\n",
      " 90%|█████████ | 1196/1324 [00:41<00:03, 34.78it/s]\u001b[A\n",
      " 91%|█████████ | 1201/1324 [00:41<00:03, 36.96it/s]\u001b[A\n",
      " 91%|█████████ | 1207/1324 [00:41<00:03, 37.65it/s]\u001b[A\n",
      " 92%|█████████▏| 1213/1324 [00:41<00:02, 40.68it/s]\u001b[A\n",
      " 92%|█████████▏| 1218/1324 [00:41<00:03, 35.15it/s]\u001b[A\n",
      " 92%|█████████▏| 1222/1324 [00:42<00:03, 33.63it/s]\u001b[A\n",
      " 93%|█████████▎| 1227/1324 [00:42<00:02, 35.95it/s]\u001b[A\n",
      " 93%|█████████▎| 1231/1324 [00:42<00:02, 36.12it/s]\u001b[A\n",
      " 93%|█████████▎| 1235/1324 [00:42<00:02, 36.82it/s]\u001b[A\n",
      " 94%|█████████▎| 1239/1324 [00:42<00:02, 33.83it/s]\u001b[A\n",
      " 94%|█████████▍| 1243/1324 [00:42<00:02, 34.02it/s]\u001b[A\n",
      " 94%|█████████▍| 1248/1324 [00:42<00:02, 36.41it/s]\u001b[A\n",
      " 95%|█████████▍| 1254/1324 [00:42<00:01, 40.09it/s]\u001b[A\n",
      " 95%|█████████▌| 1259/1324 [00:43<00:01, 36.90it/s]\u001b[A\n",
      " 96%|█████████▌| 1266/1324 [00:43<00:01, 42.72it/s]\u001b[A\n",
      " 96%|█████████▌| 1271/1324 [00:43<00:01, 42.36it/s]\u001b[A\n",
      " 96%|█████████▋| 1276/1324 [00:43<00:01, 43.79it/s]\u001b[A\n",
      " 97%|█████████▋| 1281/1324 [00:43<00:01, 41.42it/s]\u001b[A\n",
      " 97%|█████████▋| 1287/1324 [00:43<00:00, 45.46it/s]\u001b[A\n",
      " 98%|█████████▊| 1292/1324 [00:43<00:00, 45.61it/s]\u001b[A\n",
      " 98%|█████████▊| 1297/1324 [00:43<00:00, 41.79it/s]\u001b[A\n",
      " 98%|█████████▊| 1302/1324 [00:43<00:00, 43.73it/s]\u001b[A\n",
      " 99%|█████████▊| 1307/1324 [00:44<00:00, 38.20it/s]\u001b[A\n",
      " 99%|█████████▉| 1312/1324 [00:44<00:00, 41.02it/s]\u001b[A\n",
      " 99%|█████████▉| 1317/1324 [00:44<00:00, 26.45it/s]\u001b[A\n",
      "100%|█████████▉| 1321/1324 [00:44<00:00, 19.53it/s]\u001b[A\n",
      "100%|██████████| 1324/1324 [00:45<00:00, 19.39it/s]\u001b[A\n",
      "\u001b[A"
     ]
    },
    {
     "name": "stdout",
     "output_type": "stream",
     "text": [
      "(1336, 224, 224, 3)  |  (1324, 224, 224, 3)\n"
     ]
    }
   ],
   "source": [
    "# Load dog and human images, but only a subset of them, to reduce memory consumption\n",
    "dog_images = paths_to_tensor(train_files[::5])\n",
    "human_images = paths_to_tensor(human_files[::10])\n",
    "\n",
    "print(dog_images.shape, ' | ', human_images.shape)"
   ]
  },
  {
   "cell_type": "code",
   "execution_count": 44,
   "metadata": {
    "collapsed": true
   },
   "outputs": [],
   "source": [
    "# Normalize the data\n",
    "# To reduce memory usage, we just only work with a subset of dogs and humans\n",
    "# In order to 'sample' the different dog breeds evenly, we just retain every nth image\n",
    "dog_images = dog_images.astype('float32')/255\n",
    "human_images = human_images.astype('float32')/255"
   ]
  },
  {
   "cell_type": "code",
   "execution_count": 45,
   "metadata": {
    "collapsed": true
   },
   "outputs": [],
   "source": [
    "dog_human_train = np.vstack([dog_images, human_images])"
   ]
  },
  {
   "cell_type": "code",
   "execution_count": 46,
   "metadata": {},
   "outputs": [
    {
     "data": {
      "text/plain": [
       "array([0, 0, 0, ..., 1, 1, 1])"
      ]
     },
     "execution_count": 46,
     "metadata": {},
     "output_type": "execute_result"
    }
   ],
   "source": [
    "# Create labels\n",
    "dog_human_target = np.append(np.repeat(0, len(dog_images)), np.repeat(1, len(human_images)))\n",
    "dog_human_target"
   ]
  },
  {
   "cell_type": "code",
   "execution_count": 47,
   "metadata": {
    "collapsed": true
   },
   "outputs": [],
   "source": [
    "from sklearn.model_selection import train_test_split\n",
    "\n",
    "x_dh_train, x_dh_test, y_dh_train, y_dh_test = (\n",
    "    train_test_split(dog_human_train, dog_human_target, test_size=0.40, random_state=42)\n",
    ")"
   ]
  },
  {
   "cell_type": "code",
   "execution_count": 48,
   "metadata": {},
   "outputs": [
    {
     "data": {
      "text/plain": [
       "(2660, 224, 224, 3)"
      ]
     },
     "execution_count": 48,
     "metadata": {},
     "output_type": "execute_result"
    }
   ],
   "source": [
    "dog_human_train.shape"
   ]
  },
  {
   "cell_type": "code",
   "execution_count": 49,
   "metadata": {},
   "outputs": [
    {
     "name": "stdout",
     "output_type": "stream",
     "text": [
      "_________________________________________________________________\n",
      "Layer (type)                 Output Shape              Param #   \n",
      "=================================================================\n",
      "conv2d_3 (Conv2D)            (None, 222, 222, 32)      896       \n",
      "_________________________________________________________________\n",
      "activation_3 (Activation)    (None, 222, 222, 32)      0         \n",
      "_________________________________________________________________\n",
      "max_pooling2d_3 (MaxPooling2 (None, 74, 74, 32)        0         \n",
      "_________________________________________________________________\n",
      "conv2d_4 (Conv2D)            (None, 72, 72, 32)        9248      \n",
      "_________________________________________________________________\n",
      "activation_4 (Activation)    (None, 72, 72, 32)        0         \n",
      "_________________________________________________________________\n",
      "max_pooling2d_4 (MaxPooling2 (None, 24, 24, 32)        0         \n",
      "_________________________________________________________________\n",
      "conv2d_5 (Conv2D)            (None, 22, 22, 64)        18496     \n",
      "_________________________________________________________________\n",
      "activation_5 (Activation)    (None, 22, 22, 64)        0         \n",
      "_________________________________________________________________\n",
      "max_pooling2d_5 (MaxPooling2 (None, 7, 7, 64)          0         \n",
      "_________________________________________________________________\n",
      "flatten_1 (Flatten)          (None, 3136)              0         \n",
      "_________________________________________________________________\n",
      "dense_1 (Dense)              (None, 64)                200768    \n",
      "_________________________________________________________________\n",
      "activation_6 (Activation)    (None, 64)                0         \n",
      "_________________________________________________________________\n",
      "dropout_1 (Dropout)          (None, 64)                0         \n",
      "_________________________________________________________________\n",
      "dense_2 (Dense)              (None, 1)                 65        \n",
      "_________________________________________________________________\n",
      "activation_7 (Activation)    (None, 1)                 0         \n",
      "=================================================================\n",
      "Total params: 229,473\n",
      "Trainable params: 229,473\n",
      "Non-trainable params: 0\n",
      "_________________________________________________________________\n"
     ]
    }
   ],
   "source": [
    "# Build a simple DNN\n",
    "\n",
    "from keras.models import Sequential\n",
    "from keras.layers import Conv2D, MaxPooling2D\n",
    "from keras.layers import Activation, Dropout, Flatten, Dense\n",
    "\n",
    "model = Sequential()\n",
    "model.add(Conv2D(32, kernel_size=3, input_shape=(224, 224, 3)))\n",
    "model.add(Activation('relu'))\n",
    "model.add(MaxPooling2D(pool_size=3))\n",
    "\n",
    "model.add(Conv2D(32, kernel_size=3))\n",
    "model.add(Activation('relu'))\n",
    "model.add(MaxPooling2D(pool_size=3))\n",
    "\n",
    "model.add(Conv2D(64, kernel_size=3))\n",
    "model.add(Activation('relu'))\n",
    "model.add(MaxPooling2D(pool_size=3))\n",
    "\n",
    "model.add(Flatten())\n",
    "\n",
    "model.add(Dense(64))\n",
    "model.add(Activation('relu'))\n",
    "model.add(Dropout(0.2))\n",
    "\n",
    "model.add(Dense(1))\n",
    "model.add(Activation('sigmoid'))\n",
    "\n",
    "model.summary()"
   ]
  },
  {
   "cell_type": "code",
   "execution_count": 50,
   "metadata": {
    "collapsed": true
   },
   "outputs": [],
   "source": [
    "model.compile(loss='binary_crossentropy',\n",
    "              optimizer='adam',\n",
    "              metrics=['accuracy'])"
   ]
  },
  {
   "cell_type": "code",
   "execution_count": 51,
   "metadata": {
    "collapsed": true
   },
   "outputs": [],
   "source": [
    "from keras.callbacks import ModelCheckpoint\n",
    "\n",
    "checkpointer = ModelCheckpoint(filepath='dh_weights.hdf5', verbose=1, save_best_only=True)"
   ]
  },
  {
   "cell_type": "code",
   "execution_count": 53,
   "metadata": {
    "scrolled": true
   },
   "outputs": [
    {
     "name": "stdout",
     "output_type": "stream",
     "text": [
      "Train on 1596 samples, validate on 1064 samples\n",
      "Epoch 1/20\n",
      "1568/1596 [============================>.] - ETA: 0s - loss: 0.3340 - acc: 0.8335Epoch 00000: val_loss improved from inf to 0.09943, saving model to dh_weights.hdf5\n",
      "1596/1596 [==============================] - 24s - loss: 0.3285 - acc: 0.8365 - val_loss: 0.0994 - val_acc: 0.9605\n",
      "Epoch 2/20\n",
      "1568/1596 [============================>.] - ETA: 0s - loss: 0.1035 - acc: 0.9579Epoch 00001: val_loss improved from 0.09943 to 0.08828, saving model to dh_weights.hdf5\n",
      "1596/1596 [==============================] - 5s - loss: 0.1019 - acc: 0.9586 - val_loss: 0.0883 - val_acc: 0.9662\n",
      "Epoch 3/20\n",
      "1568/1596 [============================>.] - ETA: 0s - loss: 0.0686 - acc: 0.9758Epoch 00002: val_loss improved from 0.08828 to 0.08744, saving model to dh_weights.hdf5\n",
      "1596/1596 [==============================] - 5s - loss: 0.0687 - acc: 0.9756 - val_loss: 0.0874 - val_acc: 0.9652\n",
      "Epoch 4/20\n",
      "1568/1596 [============================>.] - ETA: 0s - loss: 0.0615 - acc: 0.9732Epoch 00003: val_loss improved from 0.08744 to 0.06174, saving model to dh_weights.hdf5\n",
      "1596/1596 [==============================] - 5s - loss: 0.0611 - acc: 0.9737 - val_loss: 0.0617 - val_acc: 0.9756\n",
      "Epoch 5/20\n",
      "1568/1596 [============================>.] - ETA: 0s - loss: 0.0515 - acc: 0.9834Epoch 00004: val_loss did not improve\n",
      "1596/1596 [==============================] - 5s - loss: 0.0536 - acc: 0.9825 - val_loss: 0.0624 - val_acc: 0.9765\n",
      "Epoch 6/20\n",
      "1568/1596 [============================>.] - ETA: 0s - loss: 0.0426 - acc: 0.9860Epoch 00005: val_loss improved from 0.06174 to 0.03113, saving model to dh_weights.hdf5\n",
      "1596/1596 [==============================] - 5s - loss: 0.0419 - acc: 0.9862 - val_loss: 0.0311 - val_acc: 0.9887\n",
      "Epoch 7/20\n",
      "1568/1596 [============================>.] - ETA: 0s - loss: 0.0303 - acc: 0.9904Epoch 00006: val_loss did not improve\n",
      "1596/1596 [==============================] - 5s - loss: 0.0316 - acc: 0.9893 - val_loss: 0.0397 - val_acc: 0.9840\n",
      "Epoch 8/20\n",
      "1568/1596 [============================>.] - ETA: 0s - loss: 0.0349 - acc: 0.9866Epoch 00007: val_loss did not improve\n",
      "1596/1596 [==============================] - 5s - loss: 0.0345 - acc: 0.9868 - val_loss: 0.0578 - val_acc: 0.9756\n",
      "Epoch 9/20\n",
      "1568/1596 [============================>.] - ETA: 0s - loss: 0.0313 - acc: 0.9904Epoch 00008: val_loss improved from 0.03113 to 0.02378, saving model to dh_weights.hdf5\n",
      "1596/1596 [==============================] - 5s - loss: 0.0308 - acc: 0.9906 - val_loss: 0.0238 - val_acc: 0.9906\n",
      "Epoch 10/20\n",
      "1568/1596 [============================>.] - ETA: 0s - loss: 0.0308 - acc: 0.9898Epoch 00009: val_loss improved from 0.02378 to 0.02187, saving model to dh_weights.hdf5\n",
      "1596/1596 [==============================] - 5s - loss: 0.0303 - acc: 0.9900 - val_loss: 0.0219 - val_acc: 0.9887\n",
      "Epoch 11/20\n",
      "1568/1596 [============================>.] - ETA: 0s - loss: 0.0096 - acc: 0.996 - ETA: 0s - loss: 0.0104 - acc: 0.9955Epoch 00010: val_loss did not improve\n",
      "1596/1596 [==============================] - 5s - loss: 0.0115 - acc: 0.9950 - val_loss: 0.0404 - val_acc: 0.9831\n",
      "Epoch 12/20\n",
      "1568/1596 [============================>.] - ETA: 0s - loss: 0.0156 - acc: 0.9968Epoch 00011: val_loss did not improve\n",
      "1596/1596 [==============================] - 6s - loss: 0.0158 - acc: 0.9969 - val_loss: 0.0344 - val_acc: 0.9840\n",
      "Epoch 13/20\n",
      "1568/1596 [============================>.] - ETA: 0s - loss: 0.0080 - acc: 0.9968Epoch 00012: val_loss improved from 0.02187 to 0.01504, saving model to dh_weights.hdf5\n",
      "1596/1596 [==============================] - 5s - loss: 0.0079 - acc: 0.9969 - val_loss: 0.0150 - val_acc: 0.9972\n",
      "Epoch 14/20\n",
      "1568/1596 [============================>.] - ETA: 0s - loss: 0.0055 - acc: 0.9981Epoch 00013: val_loss improved from 0.01504 to 0.01177, saving model to dh_weights.hdf5\n",
      "1596/1596 [==============================] - 5s - loss: 0.0054 - acc: 0.9981 - val_loss: 0.0118 - val_acc: 0.9972\n",
      "Epoch 15/20\n",
      "1568/1596 [============================>.] - ETA: 0s - loss: 0.0033 - acc: 0.9994Epoch 00014: val_loss improved from 0.01177 to 0.01057, saving model to dh_weights.hdf5\n",
      "1596/1596 [==============================] - 5s - loss: 0.0032 - acc: 0.9994 - val_loss: 0.0106 - val_acc: 0.9972\n",
      "Epoch 16/20\n",
      "1568/1596 [============================>.] - ETA: 0s - loss: 0.0073 - acc: 0.9981Epoch 00015: val_loss improved from 0.01057 to 0.00865, saving model to dh_weights.hdf5\n",
      "1596/1596 [==============================] - 5s - loss: 0.0074 - acc: 0.9981 - val_loss: 0.0087 - val_acc: 0.9972\n",
      "Epoch 17/20\n",
      "1568/1596 [============================>.] - ETA: 0s - loss: 0.0025 - acc: 1.0000- ETA: 4s - loss: 0.0057 - - ETA: 3s - loss: 0.0043 - - ETA: 1s - loss: 0Epoch 00016: val_loss did not improve\n",
      "1596/1596 [==============================] - 6s - loss: 0.0026 - acc: 1.0000 - val_loss: 0.0162 - val_acc: 0.9953\n",
      "Epoch 18/20\n",
      "1568/1596 [============================>.] - ETA: 0s - loss: 0.0064 - acc: 0.9987Epoch 00017: val_loss did not improve\n",
      "1596/1596 [==============================] - 6s - loss: 0.0078 - acc: 0.9975 - val_loss: 0.0634 - val_acc: 0.9793\n",
      "Epoch 19/20\n",
      "1568/1596 [============================>.] - ETA: 0s - loss: 0.0229 - acc: 0.9911Epoch 00018: val_loss did not improve\n",
      "1596/1596 [==============================] - 5s - loss: 0.0226 - acc: 0.9912 - val_loss: 0.0517 - val_acc: 0.9831\n",
      "Epoch 20/20\n",
      "1568/1596 [============================>.] - ETA: 0s - loss: 0.0146 - acc: 0.9955- ETA: 1s - loss: 0.0165 Epoch 00019: val_loss did not improve\n",
      "1596/1596 [==============================] - 6s - loss: 0.0144 - acc: 0.9956 - val_loss: 0.0339 - val_acc: 0.9878\n"
     ]
    },
    {
     "data": {
      "text/plain": [
       "<keras.callbacks.History at 0x7f70187672b0>"
      ]
     },
     "execution_count": 53,
     "metadata": {},
     "output_type": "execute_result"
    }
   ],
   "source": [
    "model.fit(x_dh_train, y_dh_train, batch_size=32, epochs=20, \n",
    "          verbose=1, validation_data=(x_dh_test, y_dh_test), \n",
    "          callbacks=[checkpointer])"
   ]
  },
  {
   "cell_type": "code",
   "execution_count": 54,
   "metadata": {},
   "outputs": [
    {
     "name": "stdout",
     "output_type": "stream",
     "text": [
      "1056/1064 [============================>.] - ETA: 0s"
     ]
    }
   ],
   "source": [
    "# Load weights and evaluate best model.\n",
    "model.load_weights('dh_weights.hdf5')\n",
    "scores = model.evaluate(x_dh_test, y_dh_test)"
   ]
  },
  {
   "cell_type": "code",
   "execution_count": 55,
   "metadata": {},
   "outputs": [
    {
     "name": "stdout",
     "output_type": "stream",
     "text": [
      "Metric: acc | Score: 99.71804511278195\n"
     ]
    }
   ],
   "source": [
    "print('Metric: {} | Score: {}'.format(model.metrics_names[1], scores[1]*100))"
   ]
  },
  {
   "cell_type": "markdown",
   "metadata": {},
   "source": [
    "We have reached almost perfect accuracy on the test set. If we just have to distinguish between human faces and images of dogs, we should be able to do a better job than the face detector of cv2. "
   ]
  },
  {
   "cell_type": "markdown",
   "metadata": {},
   "source": [
    "---\n",
    "<a id='step2'></a>\n",
    "## Step 2: Detect Dogs\n",
    "\n",
    "In this section, we use a pre-trained [ResNet-50](http://ethereon.github.io/netscope/#/gist/db945b393d40bfa26006) model to detect dogs in images.  Our first line of code downloads the ResNet-50 model, along with weights that have been trained on [ImageNet](http://www.image-net.org/), a very large, very popular dataset used for image classification and other vision tasks.  ImageNet contains over 10 million URLs, each linking to an image containing an object from one of [1000 categories](https://gist.github.com/yrevar/942d3a0ac09ec9e5eb3a).  Given an image, this pre-trained ResNet-50 model returns a prediction (derived from the available categories in ImageNet) for the object that is contained in the image."
   ]
  },
  {
   "cell_type": "code",
   "execution_count": 3,
   "metadata": {},
   "outputs": [],
   "source": [
    "from keras.applications.resnet50 import ResNet50\n",
    "\n",
    "# define ResNet50 model\n",
    "ResNet50_model = ResNet50(weights='imagenet')"
   ]
  },
  {
   "cell_type": "markdown",
   "metadata": {},
   "source": [
    "### Pre-process the Data\n",
    "\n",
    "When using TensorFlow as backend, Keras CNNs require a 4D array (which we'll also refer to as a 4D tensor) as input, with shape\n",
    "\n",
    "$$\n",
    "(\\text{nb_samples}, \\text{rows}, \\text{columns}, \\text{channels}),\n",
    "$$\n",
    "\n",
    "where `nb_samples` corresponds to the total number of images (or samples), and `rows`, `columns`, and `channels` correspond to the number of rows, columns, and channels for each image, respectively.  \n",
    "\n",
    "The `path_to_tensor` function below takes a string-valued file path to a color image as input and returns a 4D tensor suitable for supplying to a Keras CNN.  The function first loads the image and resizes it to a square image that is $224 \\times 224$ pixels.  Next, the image is converted to an array, which is then resized to a 4D tensor.  In this case, since we are working with color images, each image has three channels.  Likewise, since we are processing a single image (or sample), the returned tensor will always have shape\n",
    "\n",
    "$$\n",
    "(1, 224, 224, 3).\n",
    "$$\n",
    "\n",
    "The `paths_to_tensor` function takes a numpy array of string-valued image paths as input and returns a 4D tensor with shape \n",
    "\n",
    "$$\n",
    "(\\text{nb_samples}, 224, 224, 3).\n",
    "$$\n",
    "\n",
    "Here, `nb_samples` is the number of samples, or number of images, in the supplied array of image paths.  It is best to think of `nb_samples` as the number of 3D tensors (where each 3D tensor corresponds to a different image) in your dataset!"
   ]
  },
  {
   "cell_type": "code",
   "execution_count": 4,
   "metadata": {
    "collapsed": true
   },
   "outputs": [],
   "source": [
    "from keras.preprocessing import image                  \n",
    "from tqdm import tqdm\n",
    "\n",
    "def path_to_tensor(img_path):\n",
    "    # loads RGB image as PIL.Image.Image type\n",
    "    img = image.load_img(img_path, target_size=(224, 224))\n",
    "    # convert PIL.Image.Image type to 3D tensor with shape (224, 224, 3)\n",
    "    x = image.img_to_array(img)\n",
    "    # convert 3D tensor to 4D tensor with shape (1, 224, 224, 3) and return 4D tensor\n",
    "    return np.expand_dims(x, axis=0)\n",
    "\n",
    "def paths_to_tensor(img_paths):\n",
    "    list_of_tensors = [path_to_tensor(img_path) for img_path in tqdm(img_paths)]\n",
    "    return np.vstack(list_of_tensors)"
   ]
  },
  {
   "cell_type": "markdown",
   "metadata": {},
   "source": [
    "### Making Predictions with ResNet-50\n",
    "\n",
    "Getting the 4D tensor ready for ResNet-50, and for any other pre-trained model in Keras, requires some additional processing.  First, the RGB image is converted to BGR by reordering the channels.  All pre-trained models have the additional normalization step that the mean pixel (expressed in RGB as $[103.939, 116.779, 123.68]$ and calculated from all pixels in all images in ImageNet) must be subtracted from every pixel in each image.  This is implemented in the imported function `preprocess_input`.  If you're curious, you can check the code for `preprocess_input` [here](https://github.com/fchollet/keras/blob/master/keras/applications/imagenet_utils.py).\n",
    "\n",
    "Now that we have a way to format our image for supplying to ResNet-50, we are now ready to use the model to extract the predictions.  This is accomplished with the `predict` method, which returns an array whose $i$-th entry is the model's predicted probability that the image belongs to the $i$-th ImageNet category.  This is implemented in the `ResNet50_predict_labels` function below.\n",
    "\n",
    "By taking the argmax of the predicted probability vector, we obtain an integer corresponding to the model's predicted object class, which we can identify with an object category through the use of this [dictionary](https://gist.github.com/yrevar/942d3a0ac09ec9e5eb3a). "
   ]
  },
  {
   "cell_type": "code",
   "execution_count": 5,
   "metadata": {
    "collapsed": true
   },
   "outputs": [],
   "source": [
    "from keras.applications.resnet50 import preprocess_input, decode_predictions\n",
    "\n",
    "def ResNet50_predict_labels(img_path):\n",
    "    # returns prediction vector for image located at img_path\n",
    "    img = preprocess_input(path_to_tensor(img_path))\n",
    "    return np.argmax(ResNet50_model.predict(img))"
   ]
  },
  {
   "cell_type": "markdown",
   "metadata": {},
   "source": [
    "### Write a Dog Detector\n",
    "\n",
    "While looking at the [dictionary](https://gist.github.com/yrevar/942d3a0ac09ec9e5eb3a), you will notice that the categories corresponding to dogs appear in an uninterrupted sequence and correspond to dictionary keys 151-268, inclusive, to include all categories from `'Chihuahua'` to `'Mexican hairless'`.  Thus, in order to check to see if an image is predicted to contain a dog by the pre-trained ResNet-50 model, we need only check if the `ResNet50_predict_labels` function above returns a value between 151 and 268 (inclusive).\n",
    "\n",
    "We use these ideas to complete the `dog_detector` function below, which returns `True` if a dog is detected in an image (and `False` if not)."
   ]
  },
  {
   "cell_type": "code",
   "execution_count": 6,
   "metadata": {
    "collapsed": true
   },
   "outputs": [],
   "source": [
    "### returns \"True\" if a dog is detected in the image stored at img_path\n",
    "def dog_detector(img_path):\n",
    "    prediction = ResNet50_predict_labels(img_path)\n",
    "    return ((prediction <= 268) & (prediction >= 151)) "
   ]
  },
  {
   "cell_type": "markdown",
   "metadata": {},
   "source": [
    "### (IMPLEMENTATION) Assess the Dog Detector\n",
    "\n",
    "__Question 3:__ Use the code cell below to test the performance of your `dog_detector` function.  \n",
    "- What percentage of the images in `human_files_short` have a detected dog?  \n",
    "- What percentage of the images in `dog_files_short` have a detected dog?\n",
    "\n",
    "__Answer:__ "
   ]
  },
  {
   "cell_type": "code",
   "execution_count": 12,
   "metadata": {},
   "outputs": [
    {
     "name": "stdout",
     "output_type": "stream",
     "text": [
      "Percentage of dogs detected in dog pictures: 1.0\n",
      "Percentage of dogs detected in human pictures: 0.01\n"
     ]
    }
   ],
   "source": [
    "### TODO: Test the performance of the dog_detector function\n",
    "### on the images in human_files_short and dog_files_short.\n",
    "\n",
    "resnet_human_acc = sum(map(dog_detector, human_files_short))/len(human_files_short)\n",
    "resnet_dog_acc = sum(map(dog_detector, dog_files_short))/len(dog_files_short)\n",
    "\n",
    "print('Percentage of dogs detected in dog pictures:', resnet_dog_acc)\n",
    "print('Percentage of dogs detected in human pictures:', resnet_human_acc)"
   ]
  },
  {
   "cell_type": "markdown",
   "metadata": {},
   "source": [
    "---\n",
    "<a id='step3'></a>\n",
    "## Step 3: Create a CNN to Classify Dog Breeds (from Scratch)\n",
    "\n",
    "Now that we have functions for detecting humans and dogs in images, we need a way to predict breed from images.  In this step, you will create a CNN that classifies dog breeds.  You must create your CNN _from scratch_ (so, you can't use transfer learning _yet_!), and you must attain a test accuracy of at least 1%.  In Step 5 of this notebook, you will have the opportunity to use transfer learning to create a CNN that attains greatly improved accuracy.\n",
    "\n",
    "Be careful with adding too many trainable layers!  More parameters means longer training, which means you are more likely to need a GPU to accelerate the training process.  Thankfully, Keras provides a handy estimate of the time that each epoch is likely to take; you can extrapolate this estimate to figure out how long it will take for your algorithm to train. \n",
    "\n",
    "We mention that the task of assigning breed to dogs from images is considered exceptionally challenging.  To see why, consider that *even a human* would have great difficulty in distinguishing between a Brittany and a Welsh Springer Spaniel.  \n",
    "\n",
    "Brittany | Welsh Springer Spaniel\n",
    "- | - \n",
    "<img src=\"images/Brittany_02625.jpg\" width=\"100\"> | <img src=\"images/Welsh_springer_spaniel_08203.jpg\" width=\"200\">\n",
    "\n",
    "It is not difficult to find other dog breed pairs with minimal inter-class variation (for instance, Curly-Coated Retrievers and American Water Spaniels).  \n",
    "\n",
    "Curly-Coated Retriever | American Water Spaniel\n",
    "- | -\n",
    "<img src=\"images/Curly-coated_retriever_03896.jpg\" width=\"200\"> | <img src=\"images/American_water_spaniel_00648.jpg\" width=\"200\">\n",
    "\n",
    "\n",
    "Likewise, recall that labradors come in yellow, chocolate, and black.  Your vision-based algorithm will have to conquer this high intra-class variation to determine how to classify all of these different shades as the same breed.  \n",
    "\n",
    "Yellow Labrador | Chocolate Labrador | Black Labrador\n",
    "- | -\n",
    "<img src=\"images/Labrador_retriever_06457.jpg\" width=\"150\"> | <img src=\"images/Labrador_retriever_06455.jpg\" width=\"240\"> | <img src=\"images/Labrador_retriever_06449.jpg\" width=\"220\">\n",
    "\n",
    "We also mention that random chance presents an exceptionally low bar: setting aside the fact that the classes are slightly imabalanced, a random guess will provide a correct answer roughly 1 in 133 times, which corresponds to an accuracy of less than 1%.  \n",
    "\n",
    "Remember that the practice is far ahead of the theory in deep learning.  Experiment with many different architectures, and trust your intuition.  And, of course, have fun! \n",
    "\n",
    "### Pre-process the Data\n",
    "\n",
    "We rescale the images by dividing every pixel in every image by 255."
   ]
  },
  {
   "cell_type": "code",
   "execution_count": 13,
   "metadata": {},
   "outputs": [
    {
     "name": "stderr",
     "output_type": "stream",
     "text": [
      "100%|██████████| 6680/6680 [01:47<00:00, 61.95it/s] \n",
      "100%|██████████| 835/835 [01:16<00:00, 10.96it/s]\n",
      "100%|██████████| 836/836 [01:59<00:00,  7.00it/s]\n"
     ]
    }
   ],
   "source": [
    "from PIL import ImageFile                            \n",
    "ImageFile.LOAD_TRUNCATED_IMAGES = True                 \n",
    "\n",
    "# pre-process the data for Keras\n",
    "train_tensors = paths_to_tensor(train_files).astype('float32')/255\n",
    "valid_tensors = paths_to_tensor(valid_files).astype('float32')/255\n",
    "test_tensors = paths_to_tensor(test_files).astype('float32')/255"
   ]
  },
  {
   "cell_type": "markdown",
   "metadata": {},
   "source": [
    "### (IMPLEMENTATION) Model Architecture\n",
    "\n",
    "Create a CNN to classify dog breed.  At the end of your code cell block, summarize the layers of your model by executing the line:\n",
    "    \n",
    "        model.summary()\n",
    "\n",
    "We have imported some Python modules to get you started, but feel free to import as many modules as you need.  If you end up getting stuck, here's a hint that specifies a model that trains relatively fast on CPU and attains >1% test accuracy in 5 epochs:\n",
    "\n",
    "![Sample CNN](images/sample_cnn.png)\n",
    "           \n",
    "__Question 4:__ Outline the steps you took to get to your final CNN architecture and your reasoning at each step.  If you chose to use the hinted architecture above, describe why you think that CNN architecture should work well for the image classification task.\n",
    "\n",
    "__Answer:__ "
   ]
  },
  {
   "cell_type": "code",
   "execution_count": 16,
   "metadata": {},
   "outputs": [
    {
     "name": "stdout",
     "output_type": "stream",
     "text": [
      "_________________________________________________________________\n",
      "Layer (type)                 Output Shape              Param #   \n",
      "=================================================================\n",
      "conv2d_1 (Conv2D)            (None, 222, 222, 32)      896       \n",
      "_________________________________________________________________\n",
      "activation_50 (Activation)   (None, 222, 222, 32)      0         \n",
      "_________________________________________________________________\n",
      "max_pooling2d_2 (MaxPooling2 (None, 74, 74, 32)        0         \n",
      "_________________________________________________________________\n",
      "conv2d_2 (Conv2D)            (None, 72, 72, 32)        9248      \n",
      "_________________________________________________________________\n",
      "activation_51 (Activation)   (None, 72, 72, 32)        0         \n",
      "_________________________________________________________________\n",
      "max_pooling2d_3 (MaxPooling2 (None, 24, 24, 32)        0         \n",
      "_________________________________________________________________\n",
      "conv2d_3 (Conv2D)            (None, 22, 22, 64)        18496     \n",
      "_________________________________________________________________\n",
      "activation_52 (Activation)   (None, 22, 22, 64)        0         \n",
      "_________________________________________________________________\n",
      "max_pooling2d_4 (MaxPooling2 (None, 7, 7, 64)          0         \n",
      "_________________________________________________________________\n",
      "conv2d_4 (Conv2D)            (None, 5, 5, 133)         76741     \n",
      "_________________________________________________________________\n",
      "activation_53 (Activation)   (None, 5, 5, 133)         0         \n",
      "_________________________________________________________________\n",
      "max_pooling2d_5 (MaxPooling2 (None, 1, 1, 133)         0         \n",
      "_________________________________________________________________\n",
      "global_average_pooling2d_1 ( (None, 133)               0         \n",
      "_________________________________________________________________\n",
      "dense_1 (Dense)              (None, 64)                8576      \n",
      "_________________________________________________________________\n",
      "activation_54 (Activation)   (None, 64)                0         \n",
      "_________________________________________________________________\n",
      "dropout_1 (Dropout)          (None, 64)                0         \n",
      "_________________________________________________________________\n",
      "dense_2 (Dense)              (None, 133)               8645      \n",
      "_________________________________________________________________\n",
      "activation_55 (Activation)   (None, 133)               0         \n",
      "=================================================================\n",
      "Total params: 122,602\n",
      "Trainable params: 122,602\n",
      "Non-trainable params: 0\n",
      "_________________________________________________________________\n"
     ]
    }
   ],
   "source": [
    "from keras.layers import Conv2D, MaxPooling2D, GlobalAveragePooling2D\n",
    "from keras.layers import Dropout, Flatten, Dense\n",
    "from keras.models import Sequential\n",
    "\n",
    "model = Sequential()\n",
    "\n",
    "from keras.models import Sequential\n",
    "from keras.layers import Conv2D, MaxPooling2D\n",
    "from keras.layers import Activation, Dropout, Flatten, Dense\n",
    "\n",
    "model = Sequential()\n",
    "model.add(Conv2D(32, kernel_size=3, input_shape=(224, 224, 3)))\n",
    "model.add(Activation('relu'))\n",
    "model.add(MaxPooling2D(pool_size=3))\n",
    "\n",
    "model.add(Conv2D(32, kernel_size=3))\n",
    "model.add(Activation('relu'))\n",
    "model.add(MaxPooling2D(pool_size=3))\n",
    "\n",
    "model.add(Conv2D(64, kernel_size=3))\n",
    "model.add(Activation('relu'))\n",
    "model.add(MaxPooling2D(pool_size=3))\n",
    "\n",
    "model.add(Conv2D(133, kernel_size=3))\n",
    "model.add(Activation('relu'))\n",
    "model.add(MaxPooling2D(pool_size=3))\n",
    "\n",
    "model.add(GlobalAveragePooling2D())\n",
    "\n",
    "model.add(Dense(64))\n",
    "model.add(Activation('relu'))\n",
    "model.add(Dropout(0.2))\n",
    "\n",
    "model.add(Dense(133))\n",
    "model.add(Activation('softmax'))\n",
    "\n",
    "model.summary()"
   ]
  },
  {
   "cell_type": "markdown",
   "metadata": {},
   "source": [
    "### Compile the Model"
   ]
  },
  {
   "cell_type": "code",
   "execution_count": 17,
   "metadata": {
    "collapsed": true
   },
   "outputs": [],
   "source": [
    "model.compile(optimizer='adam', loss='categorical_crossentropy', metrics=['accuracy'])"
   ]
  },
  {
   "cell_type": "markdown",
   "metadata": {},
   "source": [
    "### (IMPLEMENTATION) Train the Model\n",
    "\n",
    "Train your model in the code cell below.  Use model checkpointing to save the model that attains the best validation loss.\n",
    "\n",
    "You are welcome to [augment the training data](https://blog.keras.io/building-powerful-image-classification-models-using-very-little-data.html), but this is not a requirement. "
   ]
  },
  {
   "cell_type": "code",
   "execution_count": 20,
   "metadata": {},
   "outputs": [
    {
     "name": "stdout",
     "output_type": "stream",
     "text": [
      "Train on 6680 samples, validate on 835 samples\n",
      "Epoch 1/10\n",
      "6660/6680 [============================>.] - ETA: 0s - loss: 2.9715 - acc: 0.2249Epoch 00000: val_loss improved from inf to 3.89021, saving model to saved_models/weights.best.from_scratch.hdf5\n",
      "6680/6680 [==============================] - 23s - loss: 2.9724 - acc: 0.2247 - val_loss: 3.8902 - val_acc: 0.1246\n",
      "Epoch 2/10\n",
      "6660/6680 [============================>.] - ETA: 0s - loss: 2.8378 - acc: 0.2559Epoch 00001: val_loss did not improve\n",
      "6680/6680 [==============================] - 22s - loss: 2.8384 - acc: 0.2561 - val_loss: 3.9342 - val_acc: 0.1281\n",
      "Epoch 3/10\n",
      "6660/6680 [============================>.] - ETA: 0s - loss: 2.6981 - acc: 0.2802  ETA - ETA: 2s - loss:  - ETA: 1s - loss: 2.697Epoch 00002: val_loss did not improve\n",
      "6680/6680 [==============================] - 23s - loss: 2.6976 - acc: 0.2801 - val_loss: 3.9695 - val_acc: 0.1377\n",
      "Epoch 4/10\n",
      "6660/6680 [============================>.] - ETA: 0s - loss: 2.5888 - acc: 0.2964Epoch 00003: val_loss did not improve\n",
      "6680/6680 [==============================] - 24s - loss: 2.5903 - acc: 0.2961 - val_loss: 3.9987 - val_acc: 0.1329\n",
      "Epoch 5/10\n",
      "6660/6680 [============================>.] - ETA: 0s - loss: 2.4689 - acc: 0.3227- ETA: 7Epoch 00004: val_loss did not improve\n",
      "6680/6680 [==============================] - 24s - loss: 2.4699 - acc: 0.3226 - val_loss: 4.0463 - val_acc: 0.1234\n",
      "Epoch 6/10\n",
      "6660/6680 [============================>.] - ETA: 0s - loss: 2.3617 - acc: 0.3438Epoch 00005: val_loss did not improve\n",
      "6680/6680 [==============================] - 24s - loss: 2.3623 - acc: 0.3439 - val_loss: 4.2309 - val_acc: 0.1246\n",
      "Epoch 7/10\n",
      "6660/6680 [============================>.] - ETA: 0s - loss: 2.2483 - acc: 0.3683Epoch 00006: val_loss did not improve\n",
      "6680/6680 [==============================] - 25s - loss: 2.2475 - acc: 0.3683 - val_loss: 4.2935 - val_acc: 0.1365\n",
      "Epoch 8/10\n",
      "6660/6680 [============================>.] - ETA: 0s - loss: 2.1402 - acc: 0.3998Epoch 00007: val_loss did not improve\n",
      "6680/6680 [==============================] - 26s - loss: 2.1405 - acc: 0.3993 - val_loss: 4.3690 - val_acc: 0.1401\n",
      "Epoch 9/10\n",
      "6660/6680 [============================>.] - ETA: 0s - loss: 2.0637 - acc: 0.4179Epoch 00008: val_loss did not improve\n",
      "6680/6680 [==============================] - 27s - loss: 2.0637 - acc: 0.4177 - val_loss: 4.4295 - val_acc: 0.1210\n",
      "Epoch 10/10\n",
      "6660/6680 [============================>.] - ETA: 0s - loss: 1.9312 - acc: 0.4447Epoch 00009: val_loss did not improve\n",
      "6680/6680 [==============================] - 26s - loss: 1.9304 - acc: 0.4454 - val_loss: 4.6412 - val_acc: 0.1222\n"
     ]
    },
    {
     "data": {
      "text/plain": [
       "<keras.callbacks.History at 0x7fd99c14e1d0>"
      ]
     },
     "execution_count": 20,
     "metadata": {},
     "output_type": "execute_result"
    }
   ],
   "source": [
    "from keras.callbacks import ModelCheckpoint  \n",
    "\n",
    "### TODO: specify the number of epochs that you would like to use to train the model.\n",
    "\n",
    "epochs = 10 #25\n",
    "\n",
    "### Do NOT modify the code below this line.\n",
    "\n",
    "checkpointer = ModelCheckpoint(filepath='saved_models/weights.best.from_scratch.hdf5', \n",
    "                               verbose=1, save_best_only=True)\n",
    "\n",
    "model.fit(train_tensors, train_targets, \n",
    "          validation_data=(valid_tensors, valid_targets),\n",
    "          epochs=epochs, batch_size=20, callbacks=[checkpointer], verbose=1)"
   ]
  },
  {
   "cell_type": "markdown",
   "metadata": {},
   "source": [
    "### Load the Model with the Best Validation Loss"
   ]
  },
  {
   "cell_type": "code",
   "execution_count": 21,
   "metadata": {
    "collapsed": true
   },
   "outputs": [],
   "source": [
    "model.load_weights('saved_models/weights.best.from_scratch.hdf5')"
   ]
  },
  {
   "cell_type": "markdown",
   "metadata": {},
   "source": [
    "### Test the Model\n",
    "\n",
    "Try out your model on the test dataset of dog images.  Ensure that your test accuracy is greater than 1%."
   ]
  },
  {
   "cell_type": "code",
   "execution_count": 22,
   "metadata": {},
   "outputs": [
    {
     "name": "stdout",
     "output_type": "stream",
     "text": [
      "Test accuracy: 14.9522%\n"
     ]
    }
   ],
   "source": [
    "# get index of predicted dog breed for each image in test set\n",
    "dog_breed_predictions = [np.argmax(model.predict(np.expand_dims(tensor, axis=0))) for tensor in test_tensors]\n",
    "\n",
    "# report test accuracy\n",
    "test_accuracy = 100*np.sum(np.array(dog_breed_predictions)==np.argmax(test_targets, axis=1))/len(dog_breed_predictions)\n",
    "print('Test accuracy: %.4f%%' % test_accuracy)"
   ]
  },
  {
   "cell_type": "markdown",
   "metadata": {},
   "source": [
    "---\n",
    "<a id='step4'></a>\n",
    "## Step 4: Use a CNN to Classify Dog Breeds\n",
    "\n",
    "To reduce training time without sacrificing accuracy, we show you how to train a CNN using transfer learning.  In the following step, you will get a chance to use transfer learning to train your own CNN.\n",
    "\n",
    "### Obtain Bottleneck Features"
   ]
  },
  {
   "cell_type": "code",
   "execution_count": 23,
   "metadata": {
    "collapsed": true
   },
   "outputs": [],
   "source": [
    "bottleneck_features = np.load('bottleneck_features/DogVGG16Data.npz')\n",
    "train_VGG16 = bottleneck_features['train']\n",
    "valid_VGG16 = bottleneck_features['valid']\n",
    "test_VGG16 = bottleneck_features['test']"
   ]
  },
  {
   "cell_type": "markdown",
   "metadata": {},
   "source": [
    "### Model Architecture\n",
    "\n",
    "The model uses the the pre-trained VGG-16 model as a fixed feature extractor, where the last convolutional output of VGG-16 is fed as input to our model.  We only add a global average pooling layer and a fully connected layer, where the latter contains one node for each dog category and is equipped with a softmax."
   ]
  },
  {
   "cell_type": "code",
   "execution_count": 24,
   "metadata": {},
   "outputs": [
    {
     "name": "stdout",
     "output_type": "stream",
     "text": [
      "_________________________________________________________________\n",
      "Layer (type)                 Output Shape              Param #   \n",
      "=================================================================\n",
      "global_average_pooling2d_2 ( (None, 512)               0         \n",
      "_________________________________________________________________\n",
      "dense_3 (Dense)              (None, 133)               68229     \n",
      "=================================================================\n",
      "Total params: 68,229\n",
      "Trainable params: 68,229\n",
      "Non-trainable params: 0\n",
      "_________________________________________________________________\n"
     ]
    }
   ],
   "source": [
    "VGG16_model = Sequential()\n",
    "VGG16_model.add(GlobalAveragePooling2D(input_shape=train_VGG16.shape[1:]))\n",
    "VGG16_model.add(Dense(133, activation='softmax'))\n",
    "\n",
    "VGG16_model.summary()"
   ]
  },
  {
   "cell_type": "markdown",
   "metadata": {},
   "source": [
    "### Compile the Model"
   ]
  },
  {
   "cell_type": "code",
   "execution_count": 25,
   "metadata": {
    "collapsed": true
   },
   "outputs": [],
   "source": [
    "VGG16_model.compile(loss='categorical_crossentropy', optimizer='rmsprop', metrics=['accuracy'])"
   ]
  },
  {
   "cell_type": "markdown",
   "metadata": {},
   "source": [
    "### Train the Model"
   ]
  },
  {
   "cell_type": "code",
   "execution_count": 26,
   "metadata": {},
   "outputs": [
    {
     "name": "stdout",
     "output_type": "stream",
     "text": [
      "Train on 6680 samples, validate on 835 samples\n",
      "Epoch 1/20\n",
      "6540/6680 [============================>.] - ETA: 0s - loss: 12.8175 - acc: 0.1063Epoch 00000: val_loss improved from inf to 11.63467, saving model to saved_models/weights.best.VGG16.hdf5\n",
      "6680/6680 [==============================] - 1s - loss: 12.7949 - acc: 0.1078 - val_loss: 11.6347 - val_acc: 0.1796\n",
      "Epoch 2/20\n",
      "6600/6680 [============================>.] - ETA: 0s - loss: 11.0092 - acc: 0.2368Epoch 00001: val_loss improved from 11.63467 to 10.85913, saving model to saved_models/weights.best.VGG16.hdf5\n",
      "6680/6680 [==============================] - 1s - loss: 11.0135 - acc: 0.2373 - val_loss: 10.8591 - val_acc: 0.2455\n",
      "Epoch 3/20\n",
      "6420/6680 [===========================>..] - ETA: 0s - loss: 10.4766 - acc: 0.3019Epoch 00002: val_loss improved from 10.85913 to 10.74359, saving model to saved_models/weights.best.VGG16.hdf5\n",
      "6680/6680 [==============================] - 1s - loss: 10.4905 - acc: 0.3012 - val_loss: 10.7436 - val_acc: 0.2635\n",
      "Epoch 4/20\n",
      "6480/6680 [============================>.] - ETA: 0s - loss: 10.2479 - acc: 0.3264Epoch 00003: val_loss improved from 10.74359 to 10.43321, saving model to saved_models/weights.best.VGG16.hdf5\n",
      "6680/6680 [==============================] - 1s - loss: 10.2443 - acc: 0.3262 - val_loss: 10.4332 - val_acc: 0.2886\n",
      "Epoch 5/20\n",
      "6580/6680 [============================>.] - ETA: 0s - loss: 10.0174 - acc: 0.3470Epoch 00004: val_loss improved from 10.43321 to 10.31163, saving model to saved_models/weights.best.VGG16.hdf5\n",
      "6680/6680 [==============================] - 1s - loss: 10.0061 - acc: 0.3476 - val_loss: 10.3116 - val_acc: 0.3090\n",
      "Epoch 6/20\n",
      "6360/6680 [===========================>..] - ETA: 0s - loss: 9.8689 - acc: 0.3613Epoch 00005: val_loss improved from 10.31163 to 10.16118, saving model to saved_models/weights.best.VGG16.hdf5\n",
      "6680/6680 [==============================] - 1s - loss: 9.8612 - acc: 0.3615 - val_loss: 10.1612 - val_acc: 0.3066\n",
      "Epoch 7/20\n",
      "6420/6680 [===========================>..] - ETA: 0s - loss: 9.6595 - acc: 0.3777Epoch 00006: val_loss improved from 10.16118 to 9.98604, saving model to saved_models/weights.best.VGG16.hdf5\n",
      "6680/6680 [==============================] - 1s - loss: 9.6555 - acc: 0.3784 - val_loss: 9.9860 - val_acc: 0.3329\n",
      "Epoch 8/20\n",
      "6520/6680 [============================>.] - ETA: 0s - loss: 9.5671 - acc: 0.3883Epoch 00007: val_loss did not improve\n",
      "6680/6680 [==============================] - 1s - loss: 9.5798 - acc: 0.3879 - val_loss: 10.0378 - val_acc: 0.3293\n",
      "Epoch 9/20\n",
      "6600/6680 [============================>.] - ETA: 0s - loss: 9.5404 - acc: 0.3956Epoch 00008: val_loss improved from 9.98604 to 9.95077, saving model to saved_models/weights.best.VGG16.hdf5\n",
      "6680/6680 [==============================] - 1s - loss: 9.5455 - acc: 0.3952 - val_loss: 9.9508 - val_acc: 0.3377\n",
      "Epoch 10/20\n",
      "6660/6680 [============================>.] - ETA: 0s - loss: 9.4834 - acc: 0.3988Epoch 00009: val_loss improved from 9.95077 to 9.81148, saving model to saved_models/weights.best.VGG16.hdf5\n",
      "6680/6680 [==============================] - 2s - loss: 9.4769 - acc: 0.3991 - val_loss: 9.8115 - val_acc: 0.3413\n",
      "Epoch 11/20\n",
      "6600/6680 [============================>.] - ETA: 0s - loss: 9.3678 - acc: 0.4108Epoch 00010: val_loss improved from 9.81148 to 9.80995, saving model to saved_models/weights.best.VGG16.hdf5\n",
      "6680/6680 [==============================] - 3s - loss: 9.3715 - acc: 0.4106 - val_loss: 9.8099 - val_acc: 0.3437\n",
      "Epoch 12/20\n",
      "6640/6680 [============================>.] - ETA: 0s - loss: 9.3467 - acc: 0.4139Epoch 00011: val_loss improved from 9.80995 to 9.79872, saving model to saved_models/weights.best.VGG16.hdf5\n",
      "6680/6680 [==============================] - 4s - loss: 9.3534 - acc: 0.4135 - val_loss: 9.7987 - val_acc: 0.3473\n",
      "Epoch 13/20\n",
      "6620/6680 [============================>.] - ETA: 0s - loss: 9.3402 - acc: 0.4168Epoch 00012: val_loss improved from 9.79872 to 9.78292, saving model to saved_models/weights.best.VGG16.hdf5\n",
      "6680/6680 [==============================] - 4s - loss: 9.3480 - acc: 0.4163 - val_loss: 9.7829 - val_acc: 0.3485\n",
      "Epoch 14/20\n",
      "6640/6680 [============================>.] - ETA: 0s - loss: 9.3297 - acc: 0.4172Epoch 00013: val_loss did not improve\n",
      "6680/6680 [==============================] - 3s - loss: 9.3366 - acc: 0.4168 - val_loss: 9.7908 - val_acc: 0.3569\n",
      "Epoch 15/20\n",
      "6640/6680 [============================>.] - ETA: 0s - loss: 9.2931 - acc: 0.4146Epoch 00014: val_loss improved from 9.78292 to 9.61386, saving model to saved_models/weights.best.VGG16.hdf5\n",
      "6680/6680 [==============================] - 3s - loss: 9.3002 - acc: 0.4142 - val_loss: 9.6139 - val_acc: 0.3617\n",
      "Epoch 16/20\n",
      "6640/6680 [============================>.] - ETA: 0s - loss: 9.2005 - acc: 0.4226Epoch 00015: val_loss did not improve\n",
      "6680/6680 [==============================] - 3s - loss: 9.1873 - acc: 0.4234 - val_loss: 9.6248 - val_acc: 0.3677\n",
      "Epoch 17/20\n",
      "6580/6680 [============================>.] - ETA: 0s - loss: 9.1483 - acc: 0.4275Epoch 00016: val_loss did not improve\n",
      "6680/6680 [==============================] - 3s - loss: 9.1417 - acc: 0.4280 - val_loss: 9.6380 - val_acc: 0.3641\n",
      "Epoch 18/20\n",
      "6580/6680 [============================>.] - ETA: 0s - loss: 9.0906 - acc: 0.4305Epoch 00017: val_loss improved from 9.61386 to 9.55519, saving model to saved_models/weights.best.VGG16.hdf5\n",
      "6680/6680 [==============================] - 3s - loss: 9.1068 - acc: 0.4295 - val_loss: 9.5552 - val_acc: 0.3701\n",
      "Epoch 19/20\n",
      "6660/6680 [============================>.] - ETA: 0s - loss: 9.0669 - acc: 0.4327Epoch 00018: val_loss did not improve\n",
      "6680/6680 [==============================] - 3s - loss: 9.0545 - acc: 0.4334 - val_loss: 9.5902 - val_acc: 0.3629\n",
      "Epoch 20/20\n",
      "6620/6680 [============================>.] - ETA: 0s - loss: 9.0062 - acc: 0.4331Epoch 00019: val_loss did not improve\n",
      "6680/6680 [==============================] - 5s - loss: 9.0112 - acc: 0.4328 - val_loss: 9.5622 - val_acc: 0.3581\n"
     ]
    },
    {
     "data": {
      "text/plain": [
       "<keras.callbacks.History at 0x7fd9687daa90>"
      ]
     },
     "execution_count": 26,
     "metadata": {},
     "output_type": "execute_result"
    }
   ],
   "source": [
    "checkpointer = ModelCheckpoint(filepath='saved_models/weights.best.VGG16.hdf5', \n",
    "                               verbose=1, save_best_only=True)\n",
    "\n",
    "VGG16_model.fit(train_VGG16, train_targets, \n",
    "          validation_data=(valid_VGG16, valid_targets),\n",
    "          epochs=20, batch_size=20, callbacks=[checkpointer], verbose=1)"
   ]
  },
  {
   "cell_type": "markdown",
   "metadata": {},
   "source": [
    "### Load the Model with the Best Validation Loss"
   ]
  },
  {
   "cell_type": "code",
   "execution_count": 27,
   "metadata": {
    "collapsed": true
   },
   "outputs": [],
   "source": [
    "VGG16_model.load_weights('saved_models/weights.best.VGG16.hdf5')"
   ]
  },
  {
   "cell_type": "markdown",
   "metadata": {},
   "source": [
    "### Test the Model\n",
    "\n",
    "Now, we can use the CNN to test how well it identifies breed within our test dataset of dog images.  We print the test accuracy below."
   ]
  },
  {
   "cell_type": "code",
   "execution_count": 28,
   "metadata": {},
   "outputs": [
    {
     "name": "stdout",
     "output_type": "stream",
     "text": [
      "Test accuracy: 36.9617%\n"
     ]
    }
   ],
   "source": [
    "# get index of predicted dog breed for each image in test set\n",
    "VGG16_predictions = [np.argmax(VGG16_model.predict(np.expand_dims(feature, axis=0))) for feature in test_VGG16]\n",
    "\n",
    "# report test accuracy\n",
    "test_accuracy = 100*np.sum(np.array(VGG16_predictions)==np.argmax(test_targets, axis=1))/len(VGG16_predictions)\n",
    "print('Test accuracy: %.4f%%' % test_accuracy)"
   ]
  },
  {
   "cell_type": "markdown",
   "metadata": {},
   "source": [
    "### Predict Dog Breed with the Model"
   ]
  },
  {
   "cell_type": "code",
   "execution_count": 29,
   "metadata": {
    "collapsed": true
   },
   "outputs": [],
   "source": [
    "from extract_bottleneck_features import *\n",
    "\n",
    "def VGG16_predict_breed(img_path):\n",
    "    # extract bottleneck features\n",
    "    bottleneck_feature = extract_VGG16(path_to_tensor(img_path))\n",
    "    # obtain predicted vector\n",
    "    predicted_vector = VGG16_model.predict(bottleneck_feature)\n",
    "    # return dog breed that is predicted by the model\n",
    "    return dog_names[np.argmax(predicted_vector)]"
   ]
  },
  {
   "cell_type": "markdown",
   "metadata": {},
   "source": [
    "---\n",
    "<a id='step5'></a>\n",
    "## Step 5: Create a CNN to Classify Dog Breeds (using Transfer Learning)\n",
    "\n",
    "You will now use transfer learning to create a CNN that can identify dog breed from images.  Your CNN must attain at least 60% accuracy on the test set.\n",
    "\n",
    "In Step 4, we used transfer learning to create a CNN using VGG-16 bottleneck features.  In this section, you must use the bottleneck features from a different pre-trained model.  To make things easier for you, we have pre-computed the features for all of the networks that are currently available in Keras:\n",
    "- [VGG-19](https://s3-us-west-1.amazonaws.com/udacity-aind/dog-project/DogVGG19Data.npz) bottleneck features\n",
    "- [ResNet-50](https://s3-us-west-1.amazonaws.com/udacity-aind/dog-project/DogResnet50Data.npz) bottleneck features\n",
    "- [Inception](https://s3-us-west-1.amazonaws.com/udacity-aind/dog-project/DogInceptionV3Data.npz) bottleneck features\n",
    "- [Xception](https://s3-us-west-1.amazonaws.com/udacity-aind/dog-project/DogXceptionData.npz) bottleneck features\n",
    "\n",
    "The files are encoded as such:\n",
    "\n",
    "    Dog{network}Data.npz\n",
    "    \n",
    "where `{network}`, in the above filename, can be one of `VGG19`, `Resnet50`, `InceptionV3`, or `Xception`.  Pick one of the above architectures, download the corresponding bottleneck features, and store the downloaded file in the `bottleneck_features/` folder in the repository.\n",
    "\n",
    "### (IMPLEMENTATION) Obtain Bottleneck Features\n",
    "\n",
    "In the code block below, extract the bottleneck features corresponding to the train, test, and validation sets by running the following:\n",
    "\n",
    "    bottleneck_features = np.load('bottleneck_features/Dog{network}Data.npz')\n",
    "    train_{network} = bottleneck_features['train']\n",
    "    valid_{network} = bottleneck_features['valid']\n",
    "    test_{network} = bottleneck_features['test']"
   ]
  },
  {
   "cell_type": "code",
   "execution_count": 32,
   "metadata": {
    "collapsed": true
   },
   "outputs": [],
   "source": [
    "bottleneck_features = np.load('bottleneck_features/DogVGG19Data.npz')\n",
    "train_VGG19 = bottleneck_features['train']\n",
    "valid_VGG19 = bottleneck_features['valid']\n",
    "test_VGG19 = bottleneck_features['test']"
   ]
  },
  {
   "cell_type": "markdown",
   "metadata": {},
   "source": [
    "### (IMPLEMENTATION) Model Architecture\n",
    "\n",
    "Create a CNN to classify dog breed.  At the end of your code cell block, summarize the layers of your model by executing the line:\n",
    "    \n",
    "        <your model's name>.summary()\n",
    "   \n",
    "__Question 5:__ Outline the steps you took to get to your final CNN architecture and your reasoning at each step.  Describe why you think the architecture is suitable for the current problem.\n",
    "\n",
    "__Answer:__ \n",
    "My steps to reach a network with more than 60% accuracy:\n",
    "\n",
    "1. Run the same architectures as for the VGG16 features. This gave a result of around 50%.\n",
    "2. Replaced the final dense layer with 2 dense layers, in order to give the classifier more capacity. I also added dropout to the penultimate layer, for regularization purposes. This, surprisingly, led to a drastic deterioration of the result. \n",
    "3. Removed dropout. This was based on some distant memory I had that someone mentioned that Dropout requires the network to be bigger, because each sampled network is considerably smaller than the original one. And I did not want to make the network bigger (I am running the notebook on my local machine). This improved the result, but it was still inferior to the simple one-dense-layer network.\n",
    "4. Removed the extra dense layer and run some experiments with convolutional layers in front of the GlobalAverageLayer, in the hope that the network would pick up some new features. However, none of the attempts was fruitful. Most of them deteriorated the result quite drastically. That is, the extra convolutional layers kind of destroyed the good features provided by VGG19 features.\n",
    "5. Returned to the original model and used regularization for the dense layer, in the hope that this would improve this simple model at least slightly. Surprisingly, this change improved the performance drastically, to more than 70%. Regarding the hyperparameters of the regularization parameters, I have just used the default values used by keras, which is sufficient enough to meet the requirement of more than 60% accuracy. "
   ]
  },
  {
   "cell_type": "code",
   "execution_count": 88,
   "metadata": {},
   "outputs": [
    {
     "name": "stdout",
     "output_type": "stream",
     "text": [
      "_________________________________________________________________\n",
      "Layer (type)                 Output Shape              Param #   \n",
      "=================================================================\n",
      "global_average_pooling2d_19  (None, 512)               0         \n",
      "_________________________________________________________________\n",
      "dense_25 (Dense)             (None, 133)               68229     \n",
      "=================================================================\n",
      "Total params: 68,229\n",
      "Trainable params: 68,229\n",
      "Non-trainable params: 0\n",
      "_________________________________________________________________\n"
     ]
    }
   ],
   "source": [
    "from keras import regularizers\n",
    "\n",
    "VGG19_model = Sequential()\n",
    "\n",
    "VGG19_model.add(GlobalAveragePooling2D(input_shape=train_VGG19.shape[1:]))\n",
    "\n",
    "\n",
    "VGG19_model.add(Dense(133, activation='softmax', \n",
    "                     kernel_regularizer=regularizers.l2(0.01),\n",
    "                     activity_regularizer=regularizers.l1(0.01)))\n",
    "\n",
    "VGG19_model.summary()"
   ]
  },
  {
   "cell_type": "markdown",
   "metadata": {},
   "source": [
    "### (IMPLEMENTATION) Compile the Model"
   ]
  },
  {
   "cell_type": "code",
   "execution_count": 89,
   "metadata": {
    "collapsed": true
   },
   "outputs": [],
   "source": [
    "VGG19_model.compile(loss='categorical_crossentropy', optimizer='adam', metrics=['accuracy'])"
   ]
  },
  {
   "cell_type": "markdown",
   "metadata": {},
   "source": [
    "### (IMPLEMENTATION) Train the Model\n",
    "\n",
    "Train your model in the code cell below.  Use model checkpointing to save the model that attains the best validation loss.  \n",
    "\n",
    "You are welcome to [augment the training data](https://blog.keras.io/building-powerful-image-classification-models-using-very-little-data.html), but this is not a requirement. "
   ]
  },
  {
   "cell_type": "code",
   "execution_count": 90,
   "metadata": {},
   "outputs": [
    {
     "name": "stdout",
     "output_type": "stream",
     "text": [
      "Train on 6680 samples, validate on 835 samples\n",
      "Epoch 1/30\n",
      "6580/6680 [============================>.] - ETA: 0s - loss: 7.1744 - acc: 0.3239Epoch 00000: val_loss improved from inf to 3.78132, saving model to saved_models/weights.best.VGG19.hdf5\n",
      "6680/6680 [==============================] - 2s - loss: 7.1402 - acc: 0.3254 - val_loss: 3.7813 - val_acc: 0.5461\n",
      "Epoch 2/30\n",
      "6600/6680 [============================>.] - ETA: 0s - loss: 2.3964 - acc: 0.7109Epoch 00001: val_loss improved from 3.78132 to 2.76383, saving model to saved_models/weights.best.VGG19.hdf5\n",
      "6680/6680 [==============================] - 2s - loss: 2.3967 - acc: 0.7109 - val_loss: 2.7638 - val_acc: 0.6443\n",
      "Epoch 3/30\n",
      "6640/6680 [============================>.] - ETA: 0s - loss: 1.6193 - acc: 0.8364Epoch 00002: val_loss improved from 2.76383 to 2.35173, saving model to saved_models/weights.best.VGG19.hdf5\n",
      "6680/6680 [==============================] - 4s - loss: 1.6174 - acc: 0.8368 - val_loss: 2.3517 - val_acc: 0.6862\n",
      "Epoch 4/30\n",
      "6600/6680 [============================>.] - ETA: 0s - loss: 1.2824 - acc: 0.8867Epoch 00003: val_loss improved from 2.35173 to 2.22823, saving model to saved_models/weights.best.VGG19.hdf5\n",
      "6680/6680 [==============================] - 5s - loss: 1.2853 - acc: 0.8852 - val_loss: 2.2282 - val_acc: 0.6826\n",
      "Epoch 5/30\n",
      "6600/6680 [============================>.] - ETA: 0s - loss: 1.0705 - acc: 0.9236Epoch 00004: val_loss improved from 2.22823 to 2.04274, saving model to saved_models/weights.best.VGG19.hdf5\n",
      "6680/6680 [==============================] - 4s - loss: 1.0705 - acc: 0.9234 - val_loss: 2.0427 - val_acc: 0.7030\n",
      "Epoch 6/30\n",
      "6660/6680 [============================>.] - ETA: 0s - loss: 1.0212 - acc: 0.9150Epoch 00005: val_loss improved from 2.04274 to 2.00791, saving model to saved_models/weights.best.VGG19.hdf5\n",
      "6680/6680 [==============================] - 4s - loss: 1.0217 - acc: 0.9148 - val_loss: 2.0079 - val_acc: 0.7138\n",
      "Epoch 7/30\n",
      "6600/6680 [============================>.] - ETA: 0s - loss: 0.9359 - acc: 0.9297Epoch 00006: val_loss did not improve\n",
      "6680/6680 [==============================] - 4s - loss: 0.9370 - acc: 0.9295 - val_loss: 2.2785 - val_acc: 0.6850\n",
      "Epoch 8/30\n",
      "6660/6680 [============================>.] - ETA: 0s - loss: 1.0318 - acc: 0.8967Epoch 00007: val_loss did not improve\n",
      "6680/6680 [==============================] - 4s - loss: 1.0319 - acc: 0.8964 - val_loss: 2.1956 - val_acc: 0.6994\n",
      "Epoch 9/30\n",
      "6660/6680 [============================>.] - ETA: 0s - loss: 1.0087 - acc: 0.9015Epoch 00008: val_loss did not improve\n",
      "6680/6680 [==============================] - 3s - loss: 1.0081 - acc: 0.9016 - val_loss: 2.1260 - val_acc: 0.7066\n",
      "Epoch 10/30\n",
      "6620/6680 [============================>.] - ETA: 0s - loss: 0.9161 - acc: 0.9166Epoch 00009: val_loss did not improve\n",
      "6680/6680 [==============================] - 4s - loss: 0.9185 - acc: 0.9165 - val_loss: 2.1540 - val_acc: 0.6910\n",
      "Epoch 11/30\n",
      "6560/6680 [============================>.] - ETA: 0s - loss: 0.9527 - acc: 0.9116Epoch 00010: val_loss did not improve\n",
      "6680/6680 [==============================] - 3s - loss: 0.9557 - acc: 0.9112 - val_loss: 2.5786 - val_acc: 0.6383\n",
      "Epoch 12/30\n",
      "6600/6680 [============================>.] - ETA: 0s - loss: 0.9561 - acc: 0.9126Epoch 00011: val_loss did not improve\n",
      "6680/6680 [==============================] - 4s - loss: 0.9553 - acc: 0.9126 - val_loss: 2.1171 - val_acc: 0.7150\n",
      "Epoch 13/30\n",
      "6660/6680 [============================>.] - ETA: 0s - loss: 0.9362 - acc: 0.9123Epoch 00012: val_loss improved from 2.00791 to 2.00234, saving model to saved_models/weights.best.VGG19.hdf5\n",
      "6680/6680 [==============================] - 3s - loss: 0.9364 - acc: 0.9123 - val_loss: 2.0023 - val_acc: 0.7030\n",
      "Epoch 14/30\n",
      "6600/6680 [============================>.] - ETA: 0s - loss: 0.9294 - acc: 0.9180Epoch 00013: val_loss did not improve\n",
      "6680/6680 [==============================] - 4s - loss: 0.9308 - acc: 0.9178 - val_loss: 2.3663 - val_acc: 0.6814\n",
      "Epoch 15/30\n",
      "6640/6680 [============================>.] - ETA: 0s - loss: 0.9145 - acc: 0.9236Epoch 00014: val_loss improved from 2.00234 to 1.92531, saving model to saved_models/weights.best.VGG19.hdf5\n",
      "6680/6680 [==============================] - 4s - loss: 0.9152 - acc: 0.9235 - val_loss: 1.9253 - val_acc: 0.7138\n",
      "Epoch 16/30\n",
      "6620/6680 [============================>.] - ETA: 0s - loss: 0.8651 - acc: 0.9254Epoch 00015: val_loss did not improve\n",
      "6680/6680 [==============================] - 4s - loss: 0.8684 - acc: 0.9251 - val_loss: 2.2994 - val_acc: 0.6814\n",
      "Epoch 17/30\n",
      "6660/6680 [============================>.] - ETA: 0s - loss: 0.9800 - acc: 0.9051Epoch 00016: val_loss did not improve\n",
      "6680/6680 [==============================] - 5s - loss: 0.9792 - acc: 0.9054 - val_loss: 2.3421 - val_acc: 0.6790\n",
      "Epoch 18/30\n",
      "6580/6680 [============================>.] - ETA: 0s - loss: 0.9551 - acc: 0.9146Epoch 00017: val_loss did not improve\n",
      "6680/6680 [==============================] - 4s - loss: 0.9564 - acc: 0.9142 - val_loss: 1.9437 - val_acc: 0.7305\n",
      "Epoch 19/30\n",
      "6640/6680 [============================>.] - ETA: 0s - loss: 0.9534 - acc: 0.9190Epoch 00018: val_loss did not improve\n",
      "6680/6680 [==============================] - 4s - loss: 0.9557 - acc: 0.9187 - val_loss: 2.1312 - val_acc: 0.7150\n",
      "Epoch 20/30\n",
      "6660/6680 [============================>.] - ETA: 0s - loss: 0.9461 - acc: 0.9143- ETA: 3s - lo - ETA: 1Epoch 00019: val_loss did not improve\n",
      "6680/6680 [==============================] - 5s - loss: 0.9476 - acc: 0.9136 - val_loss: 2.0654 - val_acc: 0.7246\n",
      "Epoch 21/30\n",
      "6640/6680 [============================>.] - ETA: 0s - loss: 0.8887 - acc: 0.9241Epoch 00020: val_loss did not improve\n",
      "6680/6680 [==============================] - 4s - loss: 0.8890 - acc: 0.9241 - val_loss: 2.1333 - val_acc: 0.7162\n",
      "Epoch 22/30\n",
      "6600/6680 [============================>.] - ETA: 0s - loss: 0.9036 - acc: 0.9198Epoch 00021: val_loss did not improve\n",
      "6680/6680 [==============================] - 4s - loss: 0.9055 - acc: 0.9193 - val_loss: 2.0176 - val_acc: 0.7269\n",
      "Epoch 23/30\n",
      "6660/6680 [============================>.] - ETA: 0s - loss: 0.9140 - acc: 0.9170- ETEpoch 00022: val_loss did not improve\n",
      "6680/6680 [==============================] - 5s - loss: 0.9133 - acc: 0.9172 - val_loss: 1.9969 - val_acc: 0.7413\n",
      "Epoch 24/30\n",
      "6660/6680 [============================>.] - ETA: 0s - loss: 0.9126 - acc: 0.9164Epoch 00023: val_loss did not improve\n",
      "6680/6680 [==============================] - 8s - loss: 0.9119 - acc: 0.9165 - val_loss: 1.9760 - val_acc: 0.7186\n",
      "Epoch 25/30\n",
      "6620/6680 [============================>.] - ETA: 0s - loss: 0.9004 - acc: 0.9228Epoch 00024: val_loss did not improve\n",
      "6680/6680 [==============================] - 7s - loss: 0.9015 - acc: 0.9225 - val_loss: 1.9857 - val_acc: 0.7126\n",
      "Epoch 26/30\n",
      "6600/6680 [============================>.] - ETA: 0s - loss: 0.9467 - acc: 0.9117Epoch 00025: val_loss did not improve\n",
      "6680/6680 [==============================] - 5s - loss: 0.9492 - acc: 0.9105 - val_loss: 2.2265 - val_acc: 0.7030\n",
      "Epoch 27/30\n",
      "6640/6680 [============================>.] - ETA: 0s - loss: 0.9470 - acc: 0.9139Epoch 00026: val_loss did not improve\n",
      "6680/6680 [==============================] - 4s - loss: 0.9492 - acc: 0.9135 - val_loss: 2.1847 - val_acc: 0.6994\n",
      "Epoch 28/30\n",
      "6660/6680 [============================>.] - ETA: 0s - loss: 0.8955 - acc: 0.9320Epoch 00027: val_loss did not improve\n",
      "6680/6680 [==============================] - 4s - loss: 0.8967 - acc: 0.9317 - val_loss: 1.9914 - val_acc: 0.7198\n",
      "Epoch 29/30\n",
      "6600/6680 [============================>.] - ETA: 0s - loss: 0.8619 - acc: 0.9332Epoch 00028: val_loss did not improve\n",
      "6680/6680 [==============================] - 4s - loss: 0.8648 - acc: 0.9326 - val_loss: 2.0864 - val_acc: 0.7042\n",
      "Epoch 30/30\n",
      "6600/6680 [============================>.] - ETA: 0s - loss: 0.9958 - acc: 0.9023Epoch 00029: val_loss did not improve\n",
      "6680/6680 [==============================] - 4s - loss: 0.9929 - acc: 0.9028 - val_loss: 2.0758 - val_acc: 0.7186\n"
     ]
    },
    {
     "data": {
      "text/plain": [
       "<keras.callbacks.History at 0x7fd90a053f28>"
      ]
     },
     "execution_count": 90,
     "metadata": {},
     "output_type": "execute_result"
    }
   ],
   "source": [
    "nepochs = 30\n",
    "\n",
    "checkpointer = ModelCheckpoint(filepath='saved_models/weights.best.VGG19.hdf5', \n",
    "                               verbose=1, save_best_only=True)\n",
    "\n",
    "VGG19_model.fit(train_VGG19, train_targets, \n",
    "          validation_data=(valid_VGG19, valid_targets),\n",
    "          epochs=nepochs, batch_size=20, callbacks=[checkpointer], verbose=1)"
   ]
  },
  {
   "cell_type": "markdown",
   "metadata": {},
   "source": [
    "### (IMPLEMENTATION) Load the Model with the Best Validation Loss"
   ]
  },
  {
   "cell_type": "code",
   "execution_count": 91,
   "metadata": {
    "collapsed": true
   },
   "outputs": [],
   "source": [
    "VGG19_model.load_weights('saved_models/weights.best.VGG19.hdf5')"
   ]
  },
  {
   "cell_type": "markdown",
   "metadata": {},
   "source": [
    "### (IMPLEMENTATION) Test the Model\n",
    "\n",
    "Try out your model on the test dataset of dog images. Ensure that your test accuracy is greater than 60%."
   ]
  },
  {
   "cell_type": "code",
   "execution_count": 92,
   "metadata": {},
   "outputs": [
    {
     "name": "stdout",
     "output_type": "stream",
     "text": [
      "Test accuracy: 72.1292%\n"
     ]
    }
   ],
   "source": [
    "VGG19_predictions = [np.argmax(VGG19_model.predict(np.expand_dims(feature, axis=0))) for feature in test_VGG19]\n",
    "\n",
    "test_accuracy = 100*np.sum(np.array(VGG19_predictions)==np.argmax(test_targets, axis=1))/len(VGG19_predictions)\n",
    "print('Test accuracy: %.4f%%' % test_accuracy)"
   ]
  },
  {
   "cell_type": "markdown",
   "metadata": {},
   "source": [
    "### (IMPLEMENTATION) Predict Dog Breed with the Model\n",
    "\n",
    "Write a function that takes an image path as input and returns the dog breed (`Affenpinscher`, `Afghan_hound`, etc) that is predicted by your model.  \n",
    "\n",
    "Similar to the analogous function in Step 5, your function should have three steps:\n",
    "1. Extract the bottleneck features corresponding to the chosen CNN model.\n",
    "2. Supply the bottleneck features as input to the model to return the predicted vector.  Note that the argmax of this prediction vector gives the index of the predicted dog breed.\n",
    "3. Use the `dog_names` array defined in Step 0 of this notebook to return the corresponding breed.\n",
    "\n",
    "The functions to extract the bottleneck features can be found in `extract_bottleneck_features.py`, and they have been imported in an earlier code cell.  To obtain the bottleneck features corresponding to your chosen CNN architecture, you need to use the function\n",
    "\n",
    "    extract_{network}\n",
    "    \n",
    "where `{network}`, in the above filename, should be one of `VGG19`, `Resnet50`, `InceptionV3`, or `Xception`."
   ]
  },
  {
   "cell_type": "code",
   "execution_count": 93,
   "metadata": {
    "collapsed": true
   },
   "outputs": [],
   "source": [
    "### TODO: Write a function that takes a path to an image as input\n",
    "### and returns the dog breed that is predicted by the model.\n",
    "from extract_bottleneck_features import extract_VGG19\n",
    "\n",
    "def predict_dog_breed(img_path):\n",
    "    img = path_to_tensor(img_path)\n",
    "    bottleneck_features = extract_VGG19(img)\n",
    "    idx = np.argmax(VGG19_model.predict(bottleneck_features))\n",
    "    return dog_names[idx]"
   ]
  },
  {
   "cell_type": "markdown",
   "metadata": {},
   "source": [
    "---\n",
    "<a id='step6'></a>\n",
    "## Step 6: Write your Algorithm\n",
    "\n",
    "Write an algorithm that accepts a file path to an image and first determines whether the image contains a human, dog, or neither.  Then,\n",
    "- if a __dog__ is detected in the image, return the predicted breed.\n",
    "- if a __human__ is detected in the image, return the resembling dog breed.\n",
    "- if __neither__ is detected in the image, provide output that indicates an error.\n",
    "\n",
    "You are welcome to write your own functions for detecting humans and dogs in images, but feel free to use the `face_detector` and `dog_detector` functions developed above.  You are __required__ to use your CNN from Step 5 to predict dog breed.  \n",
    "\n",
    "Some sample output for our algorithm is provided below, but feel free to design your own user experience!\n",
    "\n",
    "![Sample Human Output](images/sample_human_output.png)\n",
    "\n",
    "\n",
    "### (IMPLEMENTATION) Write your Algorithm"
   ]
  },
  {
   "cell_type": "code",
   "execution_count": 98,
   "metadata": {},
   "outputs": [],
   "source": [
    "import cv2                \n",
    "import matplotlib.pyplot as plt                        \n",
    "%matplotlib inline                               \n",
    "\n",
    "def plot_image(img_path):\n",
    "    img = cv2.imread(img_path)\n",
    "    cv_rgb = cv2.cvtColor(img, cv2.COLOR_BGR2RGB)\n",
    "    plt.imshow(cv_rgb)\n",
    "    plt.show()\n",
    "\n",
    "def dog_breed_identifier(img_path):\n",
    "    plot_image(img_path)\n",
    "    \n",
    "    is_dog = dog_detector(img_path)\n",
    "    \n",
    "    if is_dog:\n",
    "        print('Hello, dog!')\n",
    "        print('You look like a', predict_dog_breed(img_path))\n",
    "    else:\n",
    "        has_face = face_detector(img_path)\n",
    "        \n",
    "        if has_face:\n",
    "            print('Hello, human!')\n",
    "            print('You resemble the most a', predict_dog_breed(img_path))\n",
    "        else:\n",
    "            print('Unidentifiable! Neither dog, nor human!')"
   ]
  },
  {
   "cell_type": "markdown",
   "metadata": {},
   "source": [
    "---\n",
    "<a id='step7'></a>\n",
    "## Step 7: Test Your Algorithm\n",
    "\n",
    "In this section, you will take your new algorithm for a spin!  What kind of dog does the algorithm think that __you__ look like?  If you have a dog, does it predict your dog's breed accurately?  If you have a cat, does it mistakenly think that your cat is a dog?\n",
    "\n",
    "### (IMPLEMENTATION) Test Your Algorithm on Sample Images!\n",
    "\n",
    "Test your algorithm at least six images on your computer.  Feel free to use any images you like.  Use at least two human and two dog images.  \n",
    "\n",
    "__Question 6:__ Is the output better than you expected :) ?  Or worse :( ?  Provide at least three possible points of improvement for your algorithm.\n",
    "\n",
    "__Answer:__ "
   ]
  },
  {
   "cell_type": "code",
   "execution_count": null,
   "metadata": {},
   "outputs": [
    {
     "data": {
      "image/png": "[encoded data removed]",
      "text/plain": [
       "<matplotlib.figure.Figure at 0x7fd909e70be0>"
      ]
     },
     "metadata": {},
     "output_type": "display_data"
    }
   ],
   "source": [
    "dog_breed_identifier('myImages/dog1.jpg')"
   ]
  },
  {
   "cell_type": "markdown",
   "metadata": {},
   "source": [
    "Ways to improve the algorithm:\n",
    "-) Experiment more with the architecture. We could utilize different activation functions or layers for the\n",
    "deep neural networks (computationally cheap (assuming that we are not changing convolutional layers to dense ones)) or adding my depth to the networks (computationally expensive).\n",
    "-) Use data augmentation. Technically, increases number of available training observations => more data leads frequently to better performance. \n",
    "-) Experiment more with weight regularization. Regularization gave a strong improvement in the transfer learning\n",
    "example. Different Hyperparameters or regularization methods (e.g. BatchNormalization) might improve the result even more."
   ]
  }
 ],
 "metadata": {
  "anaconda-cloud": {},
  "kernelspec": {
   "display_name": "Python 3",
   "language": "python",
   "name": "python3"
  },
  "language_info": {
   "codemirror_mode": {
    "name": "ipython",
    "version": 3
   },
   "file_extension": ".py",
   "mimetype": "text/x-python",
   "name": "python",
   "nbconvert_exporter": "python",
   "pygments_lexer": "ipython3",
   "version": "3.6.2"
  }
 },
 "nbformat": 4,
 "nbformat_minor": 1
}
